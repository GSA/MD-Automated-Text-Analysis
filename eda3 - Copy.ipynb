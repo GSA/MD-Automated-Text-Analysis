{
 "cells": [
  {
   "cell_type": "code",
   "execution_count": null,
   "metadata": {},
   "outputs": [],
   "source": [
    "import re\n",
    "import numpy as np\n",
    "import pandas as pd\n",
    "from pprint import pprint\n",
    "from collections import OrderedDict\n",
    "\n",
    "# Gensim\n",
    "import gensim\n",
    "import gensim.corpora as corpora\n",
    "from gensim.utils import simple_preprocess\n",
    "from gensim.models import CoherenceModel\n",
    "from gensim import utils, models\n",
    "\n",
    "\n",
    "# spacy for lemmatization\n",
    "import spacy\n",
    "\n",
    "# Plotting tools\n",
    "import pyLDAvis\n",
    "import pyLDAvis.gensim  # don't skip this\n",
    "import matplotlib.pyplot as plt\n",
    "%matplotlib inline\n",
    "\n",
    "# Enable logging for gensim - optional\n",
    "import logging\n",
    "logging.basicConfig(format='%(asctime)s : %(levelname)s : %(message)s', level=logging.ERROR)\n",
    "\n",
    "import warnings\n",
    "warnings.filterwarnings(\"ignore\",category=DeprecationWarning)\n",
    "\n",
    "import nltk\n",
    "from nltk.corpus import stopwords\n",
    "import string\n",
    "from bs4 import BeautifulSoup\n",
    "from nltk.stem.wordnet import WordNetLemmatizer\n",
    "\n",
    "from utils.clean_funcs.clean import remove_stopwords, make_bigrams, lemmatization, sent_to_words\n",
    "from utils.calc_funcs.calc import compute_coherence_values"
   ]
  },
  {
   "cell_type": "code",
   "execution_count": null,
   "metadata": {
    "tags": []
   },
   "outputs": [],
   "source": [
    "warnings.filterwarnings('ignore')\n",
    "nltk.download('vader_lexicon')\n",
    "nltk.download('wordnet')\n",
    "nltk.download('stopwords')"
   ]
  },
  {
   "cell_type": "code",
   "execution_count": null,
   "metadata": {},
   "outputs": [],
   "source": [
    "#code to clean text\n",
    "# stop = set(stopwords.words('english'))\n",
    "# exclude =set(string.punctuation)\n",
    "# useless_words = ['would','could','should','le','non','federal','way','hour','lack','make','lot','getting','use','believe','thing']\n",
    "# for word in useless_words:\n",
    "#     stop.add(word)"
   ]
  },
  {
   "cell_type": "markdown",
   "metadata": {},
   "source": [
    "## Set up dataframe"
   ]
  },
  {
   "cell_type": "code",
   "execution_count": null,
   "metadata": {},
   "outputs": [],
   "source": [
    "data = pd.read_excel('data.xlsx')\n",
    "\n",
    "df = data[['AGENCY','COMPONENT','SUB_COMPONENT','GRADELEVEL','SUP_STATUS','Please briefly describe an example of one burdensome administrative task or process which you believe is \"low value\"']]\n",
    "df.columns = ['AGENCY','COMPONENT','SUB_COMPONENT','GRADELEVEL','SUP_STATUS','TEXT']"
   ]
  },
  {
   "cell_type": "code",
   "execution_count": null,
   "metadata": {},
   "outputs": [],
   "source": [
    "df.head()"
   ]
  },
  {
   "cell_type": "code",
   "execution_count": null,
   "metadata": {},
   "outputs": [],
   "source": [
    "full_df = df[df['TEXT'].isnull()==False]\n",
    "full_df = df[df['TEXT'].isna()==False]"
   ]
  },
  {
   "cell_type": "code",
   "execution_count": null,
   "metadata": {},
   "outputs": [],
   "source": [
    "full_df = df[df['COMPONENT'].isna()==False]"
   ]
  },
  {
   "cell_type": "code",
   "execution_count": null,
   "metadata": {},
   "outputs": [],
   "source": [
    "full_df = df[df['GRADELEVEL'].isna()==False]"
   ]
  },
  {
   "cell_type": "code",
   "execution_count": null,
   "metadata": {},
   "outputs": [],
   "source": [
    "full_df.dropna(subset=['TEXT'],inplace=True)"
   ]
  },
  {
   "cell_type": "code",
   "execution_count": null,
   "metadata": {},
   "outputs": [],
   "source": [
    "#df_ag = full_df[full_df['AGENCY']=='Department of Agriculture']\n"
   ]
  },
  {
   "cell_type": "code",
   "execution_count": null,
   "metadata": {},
   "outputs": [],
   "source": [
    "#data_ag = df_ag['TEXT'].values.tolist()"
   ]
  },
  {
   "cell_type": "code",
   "execution_count": null,
   "metadata": {},
   "outputs": [],
   "source": [
    "#full_df.fillna('other')\n",
    "#full_df.replace(pd.isna,'other')"
   ]
  },
  {
   "cell_type": "code",
   "execution_count": null,
   "metadata": {},
   "outputs": [],
   "source": [
    "unique_comps = full_df['COMPONENT'].unique()\n",
    "unique_agenics = full_df['AGENCY'].unique()"
   ]
  },
  {
   "cell_type": "markdown",
   "metadata": {},
   "source": [
    "## Remove emails and newline characters"
   ]
  },
  {
   "cell_type": "code",
   "execution_count": null,
   "metadata": {},
   "outputs": [],
   "source": [
    "'''# Remove Emails\n",
    "data_ag = [re.sub('\\S*@\\S*\\s?', '', str(sent)) for sent in data_ag]\n",
    "\n",
    "# Remove new line characters\n",
    "data_ag = [re.sub('\\s+', ' ', str(sent)) for sent in data_ag]\n",
    "\n",
    "# Remove distracting single quotes\n",
    "data_ag = [re.sub(\"\\'\", \"\", str(sent)) for sent in data_ag]'''"
   ]
  },
  {
   "cell_type": "code",
   "execution_count": null,
   "metadata": {},
   "outputs": [],
   "source": [
    "# def sent_to_words(sentences):\n",
    "#     for sentence in sentences:\n",
    "#         yield(gensim.utils.simple_preprocess(str(sentence), deacc=True))  # deacc=True removes punctuations\n",
    "\n",
    "#data_ag_words = list(sent_to_words(data_ag))"
   ]
  },
  {
   "cell_type": "code",
   "execution_count": null,
   "metadata": {
    "tags": []
   },
   "outputs": [],
   "source": [
    "# print(data_ag_words[:2])"
   ]
  },
  {
   "cell_type": "markdown",
   "metadata": {},
   "source": [
    "## Build bigram and trigrams"
   ]
  },
  {
   "cell_type": "code",
   "execution_count": null,
   "metadata": {},
   "outputs": [],
   "source": [
    "'''# Build the bigram and trigram models\n",
    "bigram = gensim.models.Phrases(data_ag_words, min_count=5, threshold=100) # higher threshold fewer phrases.\n",
    "trigram = gensim.models.Phrases(bigram[data_ag_words], threshold=100)  \n",
    "\n",
    "# Faster way to get a sentence clubbed as a trigram/bigram\n",
    "bigram_mod = gensim.models.phrases.Phraser(bigram)\n",
    "trigram_mod = gensim.models.phrases.Phraser(trigram)'''"
   ]
  },
  {
   "cell_type": "code",
   "execution_count": null,
   "metadata": {
    "tags": []
   },
   "outputs": [],
   "source": [
    "# print(trigram_mod[bigram_mod[data_ag_words[12]]])"
   ]
  },
  {
   "cell_type": "markdown",
   "metadata": {},
   "source": [
    "## Remove Stopwords, make Bigrams and lemmatize"
   ]
  },
  {
   "cell_type": "code",
   "execution_count": null,
   "metadata": {},
   "outputs": [],
   "source": [
    "# nlp = spacy.load('en', disable=['parser', 'ner'])\n"
   ]
  },
  {
   "cell_type": "code",
   "execution_count": null,
   "metadata": {},
   "outputs": [],
   "source": [
    "# from nltk.corpus import stopwords\n",
    "# stop_words = stopwords.words('english')\n",
    "# stop_words.extend(['from', 'subject', 're', 'edu', 'use','none'])"
   ]
  },
  {
   "cell_type": "code",
   "execution_count": null,
   "metadata": {
    "tags": []
   },
   "outputs": [],
   "source": [
    "# # Remove Stop Words\n",
    "# data_words_nostops = remove_stopwords(data_ag_words)\n",
    "\n",
    "# # Form Bigrams\n",
    "# data_words_bigrams = make_bigrams(data_words_nostops)\n",
    "\n",
    "# # Initialize spacy 'en' model, keeping only tagger component (for efficiency)\n",
    "# # python3 -m spacy download en\n",
    "# nlp = spacy.load('en', disable=['parser', 'ner'])\n",
    "\n",
    "# # Do lemmatization keeping only noun, adj, vb, adv\n",
    "# data_lemmatized = lemmatization(data_words_bigrams, allowed_postags=['NOUN', 'ADJ', 'VERB', 'ADV'])\n",
    "\n"
   ]
  },
  {
   "cell_type": "code",
   "execution_count": null,
   "metadata": {
    "tags": []
   },
   "outputs": [],
   "source": [
    "# print(data_lemmatized[:3])"
   ]
  },
  {
   "cell_type": "markdown",
   "metadata": {},
   "source": [
    "## create dictionary and corpus"
   ]
  },
  {
   "cell_type": "code",
   "execution_count": null,
   "metadata": {},
   "outputs": [],
   "source": [
    "# Create Dictionary\n",
    "# id2word = corpora.Dictionary(data_lemmatized)\n",
    "\n",
    "# # Create Corpus\n",
    "# texts = data_lemmatized\n",
    "\n",
    "# # Term Document Frequency\n",
    "# corpus = [id2word.doc2bow(text) for text in texts]"
   ]
  },
  {
   "cell_type": "code",
   "execution_count": null,
   "metadata": {
    "tags": []
   },
   "outputs": [],
   "source": [
    "# print(corpus[:2])"
   ]
  },
  {
   "cell_type": "markdown",
   "metadata": {},
   "source": [
    "## Find optimal number of topics"
   ]
  },
  {
   "cell_type": "code",
   "execution_count": null,
   "metadata": {},
   "outputs": [],
   "source": [
    "#moved to utils"
   ]
  },
  {
   "cell_type": "code",
   "execution_count": null,
   "metadata": {},
   "outputs": [],
   "source": [
    "#model_list, coherence_values = compute_coherence_values(dictionary=id2word, corpus=corpus, texts=data_lemmatized, start=2, limit=20, step=2)\n"
   ]
  },
  {
   "cell_type": "code",
   "execution_count": null,
   "metadata": {},
   "outputs": [],
   "source": [
    "#moved to  calc\n"
   ]
  },
  {
   "cell_type": "code",
   "execution_count": null,
   "metadata": {},
   "outputs": [],
   "source": [
    "scores = {'Department of Agriculture':{\n",
    "'scores':{'total':8,'manager':4,'nonmanager':8\n",
    "}},\n",
    "'Department of Commerce':{\n",
    "'scores':{'total':6,'manager':4,'nonmanager':6\n",
    "}},\n",
    "'Department of Defense':{\n",
    "'scores':{'total':10,'manager':16,'nonmanager':8\n",
    "}},\n",
    "'Department of Education':{\n",
    "'scores':{'total':6,'manager':14,'nonmanager':8\n",
    "}},\n",
    "'Department of Energy':{\n",
    "'scores':{'total':4,'manager':18,'nonmanager':6\n",
    "}},\n",
    "'Department of Health and Human Services':{\n",
    "'scores':{'total':6,'manager':10,'nonmanager':10\n",
    "}},\n",
    "'Department of Homeland Security':{\n",
    "'scores':{'total':6,'manager':6,'nonmanager':6\n",
    "}},\n",
    "'Department of Housing and Urban Development':{\n",
    "'scores':{'total':4,'manager':10,'nonmanager':4\n",
    "}},\n",
    "'Department of Justice':{\n",
    "'scores':{'total':8,'manager':12,'nonmanager':4\n",
    "}},\n",
    "'Department of Labor':{\n",
    "'scores':{'total':8,'manager':14,'nonmanager':6\n",
    "}},\n",
    "'Department of State':{\n",
    "'scores':{'total':14,'manager':6,'nonmanager':6\n",
    "}},\n",
    "'Department of the Interior':{\n",
    "'scores':{'total':10,'manager':14,'nonmanager':4\n",
    "}},\n",
    "'Department of the Treasury':{\n",
    "'scores':{'total':8,'manager':10,'nonmanager':8\n",
    "}},\n",
    "'Department of Transportation':{\n",
    "'scores':{'total':6,'manager':16,'nonmanager':6\n",
    "}},\n",
    "'Department of Veterans Affairs':{\n",
    "'scores':{'total':8,'manager':12,'nonmanager':6\n",
    "}},\n",
    "'Environmental Protection Agency':{\n",
    "'scores':{'total':14,'manager':12,'nonmanager':10\n",
    "}},\n",
    "'General Services Administration':{\n",
    "'scores':{'total':18,'manager':8,'nonmanager':6\n",
    "}},\n",
    "'National Aeronautics and Space Administration':{\n",
    "'scores':{'total':4,'manager':18,'nonmanager':6\n",
    "}},\n",
    "'National Science Foundation':{\n",
    "'scores':{'total':4,'manager':16,'nonmanager':12\n",
    "}},\n",
    "'Nuclear Regulatory Commission':{\n",
    "'scores':{'total':6,'manager':16,'nonmanager':6\n",
    "}},\n",
    "'Office of Personnel Management':{\n",
    "'scores':{'total':6,'manager':12,'nonmanager':6\n",
    "}},\n",
    "'Social Security Administration':{\n",
    "'scores':{'total':10,'manager':6,'nonmanager':6\n",
    "}},\n",
    "'Small Business Administration':{\n",
    "'scores':{'total':6,'manager':16,'nonmanager':6\n",
    "}},\n",
    "'U.S. Agency for International Development':{\n",
    "'scores':{'total':4,'manager':12,'nonmanager':8\n",
    "}\n",
    "}}"
   ]
  },
  {
   "cell_type": "code",
   "execution_count": null,
   "metadata": {},
   "outputs": [],
   "source": [
    "# scores.keys()"
   ]
  },
  {
   "cell_type": "markdown",
   "metadata": {},
   "source": [
    "# Get Topics for agency level data"
   ]
  },
  {
   "cell_type": "code",
   "execution_count": null,
   "metadata": {},
   "outputs": [],
   "source": [
    "def get_topics_agencies(df,topic_num):\n",
    "    data_2 = df['TEXT'].values.tolist()\n",
    "\n",
    "    # Remove Emails\n",
    "    data_2 = [re.sub('\\S*@\\S*\\s?', '', str(sent)) for sent in data_2]\n",
    "\n",
    "    # Remove new line characters\n",
    "    data_2 = [re.sub('\\s+', ' ', str(sent)) for sent in data_2]\n",
    "\n",
    "    # Remove distracting single quotes\n",
    "    data_2 = [re.sub(\"\\'\", \"\", str(sent)) for sent in data_2]\n",
    "\n",
    "    data_words_2 = list(sent_to_words(data_2))\n",
    "\n",
    "    # Build the bigram and trigram models\n",
    "    bigram2 = gensim.models.Phrases(data_words_2, min_count=5, threshold=50) # higher threshold fewer phrases.\n",
    "    trigram2 = gensim.models.Phrases(bigram2[data_words_2], threshold=50)  \n",
    "\n",
    "    # Faster way to get a sentence clubbed as a trigram/bigram\n",
    "    bigram_mod2 = gensim.models.phrases.Phraser(bigram2)\n",
    "    trigram_mod2= gensim.models.phrases.Phraser(trigram2)\n",
    "\n",
    "    # Remove Stop Words\n",
    "    data_words_nostops2 = remove_stopwords(data_words_2)\n",
    "\n",
    "    # Form Bigrams\n",
    "    data_words_bigrams2 = make_bigrams(data_words_nostops2,bigram_mod2)\n",
    "\n",
    "    # Initialize spacy 'en' model, keeping only tagger component (for efficiency)\n",
    "    # python3 -m spacy download en\n",
    "    nlp = spacy.load('en_core_web_sm', disable=['parser', 'ner'])\n",
    "\n",
    "    # Do lemmatization keeping only noun, adj, vb, adv\n",
    "    data_lemmatized2 = lemmatization(data_words_bigrams2, allowed_postags=['NOUN', 'ADJ', 'VERB', 'ADV'])\n",
    "\n",
    "    # Create Dictionary\n",
    "    id2word2 = corpora.Dictionary(data_lemmatized2)\n",
    "\n",
    "    # Create Corpus\n",
    "    texts2 = data_lemmatized2\n",
    "\n",
    "    # Term Document Frequency\n",
    "    corpus2 = [id2word2.doc2bow(text) for text in texts2]\n",
    "\n",
    "    #model_list, coherence_values = compute_coherence_values(dictionary=id2word2, corpus=corpus2, texts=data_lemmatized2, start=2, limit=20, step=2)\n",
    "\n",
    "    #print(coherence_values)\n",
    "    #max_coherence_score = max(coherence_values)\n",
    "    #best_num_loc = coherence_values.index(max_coherence_score)\n",
    "    #best_topic_num = (coherence_values.index(max_coherence_score) + 1) *2\n",
    "    #print (best_topic_num)\n",
    "\n",
    "    #best_model = model_list[best_num_loc]\n",
    "\n",
    "    #model_topics = best_model.show_topics(formatted=False)\n",
    "\n",
    "    model_2 = gensim.models.ldamodel.LdaModel( corpus=corpus2, num_topics=topic_num, id2word=id2word2)\n",
    "\n",
    "    #pprint(best_model.print_topics(num_words=8))\n",
    "    #pprint(model_2.print_topics(num_words=8))\n",
    "\n",
    "    return model_2.show_topics(num_words=8,formatted=True)\n"
   ]
  },
  {
   "cell_type": "code",
   "execution_count": null,
   "metadata": {},
   "outputs": [],
   "source": [
    "def get_topics(df):\n",
    "\n",
    "\n",
    "    data_2 = df['TEXT'].values.tolist()\n",
    "    if len(data_2)==0:\n",
    "        return 'empty'\n",
    "\n",
    "    # Remove Emails\n",
    "    data_2 = [re.sub('\\S*@\\S*\\s?', '', str(sent)) for sent in data_2]\n",
    "\n",
    "    # Remove new line characters\n",
    "    data_2 = [re.sub('\\s+', ' ', str(sent)) for sent in data_2]\n",
    "\n",
    "    # Remove distracting single quotes\n",
    "    data_2 = [re.sub(\"\\'\", \"\", str(sent)) for sent in data_2]\n",
    "\n",
    "    data_words_2 = list(sent_to_words(data_2))\n",
    "\n",
    "    # Build the bigram and trigram models\n",
    "    bigram2 = gensim.models.Phrases(data_words_2, min_count=5, threshold=50) # higher threshold fewer phrases.\n",
    "    trigram2 = gensim.models.Phrases(bigram2[data_words_2], threshold=50)  \n",
    "\n",
    "    # Faster way to get a sentence clubbed as a trigram/bigram\n",
    "    bigram_mod2 = gensim.models.phrases.Phraser(bigram2)\n",
    "    trigram_mod2= gensim.models.phrases.Phraser(trigram2)\n",
    "\n",
    "    # Remove Stop Words\n",
    "    data_words_nostops2 = remove_stopwords(data_words_2)\n",
    "\n",
    "    # Form Bigrams\n",
    "    data_words_bigrams2 = make_bigrams(data_words_nostops2,bigram_mod2)\n",
    "\n",
    "    # Initialize spacy 'en' model, keeping only tagger component (for efficiency)\n",
    "    # python3 -m spacy download en\n",
    "    nlp = spacy.load('en_core_web_sm', disable=['parser', 'ner'])\n",
    "\n",
    "    # Do lemmatization keeping only noun, adj, vb, adv\n",
    "    data_lemmatized2 = lemmatization(data_words_bigrams2, allowed_postags=['NOUN', 'ADJ', 'VERB', 'ADV'])\n",
    "\n",
    "    # Create Dictionary\n",
    "    id2word2 = corpora.Dictionary(data_lemmatized2)\n",
    "\n",
    "    # Create Corpus\n",
    "    texts2 = data_lemmatized2\n",
    "\n",
    "    # Term Document Frequency\n",
    "    corpus2 = [id2word2.doc2bow(text) for text in texts2]\n",
    "    try:\n",
    "        model_list, coherence_values = compute_coherence_values(dictionary=id2word2, corpus=corpus2, texts=data_lemmatized2, start=2, limit=20,\\\n",
    "                   step=2,id2word=id2word2)\n",
    "    except ValueError:\n",
    "        return 'no data'\n",
    "\n",
    "    #print(coherence_values)\n",
    "    max_coherence_score = max(coherence_values)\n",
    "    best_num_loc = coherence_values.index(max_coherence_score)\n",
    "    best_topic_num = (coherence_values.index(max_coherence_score) + 1) *2\n",
    "    #print (best_topic_num)\n",
    "\n",
    "    #best_model = model_list[best_num_loc]\n",
    "\n",
    "    #model_topics = best_model.show_topics(formatted=False)\n",
    "\n",
    "    model_2 = gensim.models.ldamodel.LdaModel( corpus=corpus2, num_topics=best_topic_num, id2word=id2word2)\n",
    "\n",
    "    #pprint(best_model.print_topics(num_words=8))\n",
    "    #pprint(model_2.print_topics(num_words=8))\n",
    "\n",
    "    return model_2.show_topics(num_words=8,formatted=True)"
   ]
  },
  {
   "cell_type": "code",
   "execution_count": null,
   "metadata": {
    "tags": []
   },
   "outputs": [],
   "source": [
    "topic_dict_agency={}\n",
    "key_values = ['total', 'manager', 'nonmanager']\n",
    "\n",
    "for agency in unique_agenics:\n",
    "    topic_dict_agency[agency] = get_topics_agencies(full_df[full_df['AGENCY']==agency],scores.get(agency).get('scores').get('total'))\n"
   ]
  },
  {
   "cell_type": "code",
   "execution_count": null,
   "metadata": {},
   "outputs": [],
   "source": [
    "agency_df = pd.DataFrame(dict([ (k,pd.Series(v)) for k,v in topic_dict_agency.items() ])).T\n",
    "agency_df.to_csv('Agency_Topics.csv')"
   ]
  },
  {
   "cell_type": "code",
   "execution_count": null,
   "metadata": {},
   "outputs": [],
   "source": [
    "topic_dict_agency_mang={}\n",
    "key_values = ['total', 'manager', 'nonmanager']\n",
    "\n",
    "for agency in unique_agenics:\n",
    "    topic_dict_agency_mang[agency] = get_topics_agencies(full_df[(full_df['AGENCY']==agency) & (full_df['SUP_STATUS']==1)],scores.get(agency).get('scores').get('manager'))"
   ]
  },
  {
   "cell_type": "code",
   "execution_count": null,
   "metadata": {},
   "outputs": [],
   "source": [
    "agency_df_mang = pd.DataFrame(dict([ (k,pd.Series(v)) for k,v in topic_dict_agency_mang.items() ])).T\n",
    "agency_df_mang.to_csv('Agency_Topics_Senior_Manager.csv')"
   ]
  },
  {
   "cell_type": "code",
   "execution_count": null,
   "metadata": {},
   "outputs": [],
   "source": [
    "topic_dict_agency_nonmang={}\n",
    "key_values = ['total', 'manager', 'nonmanager']\n",
    "\n",
    "for agency in unique_agenics:\n",
    "    topic_dict_agency_nonmang[agency] = get_topics_agencies(full_df[(full_df['AGENCY']==agency) & (full_df['SUP_STATUS']==0)],scores.get(agency).get('scores').get('nonmanager'))"
   ]
  },
  {
   "cell_type": "code",
   "execution_count": null,
   "metadata": {},
   "outputs": [],
   "source": [
    "agency_df_nonmang = pd.DataFrame(dict([ (k,pd.Series(v)) for k,v in topic_dict_agency_nonmang.items() ])).T\n",
    "agency_df_nonmang.to_csv('Agency_Non_Manager_Topics.csv')"
   ]
  },
  {
   "cell_type": "code",
   "execution_count": null,
   "metadata": {},
   "outputs": [],
   "source": [
    "unique_grades = full_df['GRADELEVEL'].unique()\n",
    "grade_topic_dict = {}\n",
    "for grade in unique_grades:\n",
    "    grade_topic_dict[grade] = get_topics(full_df[full_df['GRADELEVEL']==grade])"
   ]
  },
  {
   "cell_type": "code",
   "execution_count": null,
   "metadata": {},
   "outputs": [],
   "source": [
    "gs_df = pd.DataFrame(dict([ (k,pd.Series(v)) for k,v in grade_topic_dict.items() ])).T\n",
    "gs_df.to_csv('GS_Topics.csv')"
   ]
  },
  {
   "cell_type": "code",
   "execution_count": null,
   "metadata": {
    "tags": []
   },
   "outputs": [],
   "source": [
    "unique_comps_topics_mang = {}\n",
    "\n",
    "for agency in unique_agenics:\n",
    "    temp_dict = {}\n",
    "\n",
    "    for comps in full_df[(full_df['AGENCY']==agency) & (full_df['SUP_STATUS']==1)]['COMPONENT'].unique():\n",
    "        temp_dict[comps] = get_topics(full_df[(full_df['AGENCY']==agency) & (full_df['SUP_STATUS']==1)&(full_df['COMPONENT']==comps)])\n",
    "    \n",
    "    unique_comps_topics_mang[agency] = temp_dict\n",
    "\n",
    "    "
   ]
  },
  {
   "cell_type": "code",
   "execution_count": null,
   "metadata": {},
   "outputs": [],
   "source": [
    "comps_mang_df = pd.DataFrame([(k,k1,pd.Series(v1)) for k,v in unique_comps_topics_mang.items() for k1,v1 in v.items() ],columns=['Agency','Component','topics'])"
   ]
  },
  {
   "cell_type": "code",
   "execution_count": null,
   "metadata": {},
   "outputs": [],
   "source": [
    "headers_list = ['Agency','Component','topics','topic 0','topic 1','topic 2', 'topic 3','topic 4','topic 5','topic 6','topic 7', 'topic 8','topic 9']\n",
    "comps_mang_df = comps_mang_df.reindex(columns = headers_list)"
   ]
  },
  {
   "cell_type": "code",
   "execution_count": null,
   "metadata": {
    "tags": []
   },
   "outputs": [],
   "source": [
    "for i in range(len(comps_mang_df)):\n",
    "    for t in range((10)):\n",
    "        try:\n",
    "            comps_mang_df['topic '+str(t)].iloc[i] = comps_mang_df['topics'].iloc[i][t][1]\n",
    "        except KeyError:\n",
    "            pass\n"
   ]
  },
  {
   "cell_type": "code",
   "execution_count": null,
   "metadata": {},
   "outputs": [],
   "source": [
    "comps_mang_df.to_csv('Component_SR_Manager.csv')"
   ]
  },
  {
   "cell_type": "code",
   "execution_count": null,
   "metadata": {},
   "outputs": [],
   "source": [
    "unique_comps_topics_nonmang = {}\n",
    "\n",
    "for agency in unique_agenics:\n",
    "    temp_dict = {}\n",
    "\n",
    "    for comps in full_df[(full_df['AGENCY']==agency) & (full_df['SUP_STATUS']==0)]['COMPONENT'].unique():\n",
    "        temp_dict[comps] = get_topics(full_df[(full_df['AGENCY']==agency) & (full_df['SUP_STATUS']==0)&(full_df['COMPONENT']==comps)])\n",
    "    \n",
    "    unique_comps_topics_nonmang[agency] = temp_dict"
   ]
  },
  {
   "cell_type": "code",
   "execution_count": null,
   "metadata": {},
   "outputs": [],
   "source": [
    "comps_nonmang_df = pd.DataFrame([(k,k1,pd.Series(v1)) for k,v in unique_comps_topics_nonmang.items() for k1,v1 in v.items() ],columns=['Agency','Component','topics'])\n",
    "headers_list = ['Agency','Component','topics','topic 0','topic 1','topic 2', 'topic 3','topic 4','topic 5','topic 6','topic 7', 'topic 8','topic 9']\n",
    "comps_nonmang_df = comps_nonmang_df.reindex(columns = headers_list)\n",
    "for i in range(len(comps_nonmang_df)):\n",
    "    for t in range((10)):\n",
    "        try:\n",
    "            comps_nonmang_df['topic '+str(t)].iloc[i] = comps_nonmang_df['topics'].iloc[i][t][1]\n",
    "        except KeyError:\n",
    "            pass\n"
   ]
  },
  {
   "cell_type": "code",
   "execution_count": null,
   "metadata": {},
   "outputs": [],
   "source": [
    "comps_nonmang_df.to_csv('Component_Non_Manager.csv')"
   ]
  },
  {
   "cell_type": "code",
   "execution_count": null,
   "metadata": {},
   "outputs": [],
   "source": [
    "unique_comps_topics = {}\n",
    "\n",
    "for agency in unique_agenics:\n",
    "    temp_dict = {}\n",
    "\n",
    "    for comps in full_df[(full_df['AGENCY']==agency)]['COMPONENT'].unique():\n",
    "        temp_dict[comps] = get_topics(full_df[(full_df['AGENCY']==agency)&(full_df['COMPONENT']==comps)])\n",
    "    \n",
    "    unique_comps_topics[agency] = temp_dict"
   ]
  },
  {
   "cell_type": "code",
   "execution_count": null,
   "metadata": {},
   "outputs": [],
   "source": [
    "comps_df = pd.DataFrame([(k,k1,pd.Series(v1)) for k,v in unique_comps_topics.items() for k1,v1 in v.items() ],columns=['Agency','Component','topics'])\n",
    "headers_list = ['Agency','Component','topics','topic 0','topic 1','topic 2', 'topic 3','topic 4','topic 5','topic 6','topic 7', 'topic 8','topic 9']\n",
    "comps_df = comps_df.reindex(columns = headers_list)\n",
    "for i in range(len(comps_df)):\n",
    "    for t in range((10)):\n",
    "        try:\n",
    "            comps_df['topic '+str(t)].iloc[i] = comps_df['topics'].iloc[i][t][1]\n",
    "        except KeyError:\n",
    "            pass"
   ]
  },
  {
   "cell_type": "code",
   "execution_count": null,
   "metadata": {},
   "outputs": [],
   "source": [
    "comps_df.to_csv('Component_Topics.csv')"
   ]
  },
  {
   "cell_type": "code",
   "execution_count": null,
   "metadata": {
    "tags": []
   },
   "outputs": [],
   "source": [
    "f = open('GS_Topics.csv','r')\n"
   ]
  },
  {
   "cell_type": "code",
   "execution_count": null,
   "metadata": {},
   "outputs": [],
   "source": []
  },
  {
   "cell_type": "code",
   "execution_count": null,
   "metadata": {},
   "outputs": [],
   "source": [
    "f_text = f.read()\n",
    "list1=re.sub(r\"[^a-zA-Z]+\", ' ',f_text)\n",
    "g"
   ]
  },
  {
   "cell_type": "code",
   "execution_count": null,
   "metadata": {},
   "outputs": [],
   "source": [
    "f.close()"
   ]
  },
  {
   "cell_type": "code",
   "execution_count": null,
   "metadata": {},
   "outputs": [],
   "source": [
    "g = open('Agency_Topics.csv','r')\n",
    "g_text = g.read()\n",
    "listg=re.sub(r\"[^a-zA-Z]+\", ' ',g_text)\n",
    "g.close()"
   ]
  },
  {
   "cell_type": "code",
   "execution_count": null,
   "metadata": {},
   "outputs": [],
   "source": [
    "h = open('Component_SR_manager.csv','r')\n",
    "h_text = h.read()\n",
    "listh=re.sub(r\"[^a-zA-Z]+\", ' ',h_text)\n",
    "h.close()"
   ]
  },
  {
   "cell_type": "code",
   "execution_count": null,
   "metadata": {},
   "outputs": [],
   "source": [
    "j = open('Component_Topics.csv','r')\n",
    "j_text = j.read()\n",
    "listj=re.sub(r\"[^a-zA-Z]+\", ' ',j_text)\n",
    "j.close()"
   ]
  },
  {
   "cell_type": "code",
   "execution_count": null,
   "metadata": {},
   "outputs": [],
   "source": [
    "k = open('Component_Topics.csv','r')\n",
    "k_text = k.read()\n",
    "listk=re.sub(r\"[^a-zA-Z]+\", ' ',k_text)\n",
    "k.close()"
   ]
  },
  {
   "cell_type": "code",
   "execution_count": null,
   "metadata": {},
   "outputs": [],
   "source": [
    "l = open('Agency_Topics_Senior_Manager.csv','r')\n",
    "l_text = l.read()\n",
    "listl=re.sub(r\"[^a-zA-Z]+\", ' ',l_text)\n",
    "l.close()"
   ]
  },
  {
   "cell_type": "code",
   "execution_count": null,
   "metadata": {},
   "outputs": [],
   "source": [
    "new_word = listl+listk+listj+listh+listg+list1"
   ]
  },
  {
   "cell_type": "code",
   "execution_count": null,
   "metadata": {},
   "outputs": [],
   "source": [
    "text_file = open('words.txt',\"w\")\n",
    "text_file.write(new_word)\n",
    "text_file.close()"
   ]
  },
  {
   "cell_type": "code",
   "execution_count": null,
   "metadata": {},
   "outputs": [],
   "source": []
  },
  {
   "cell_type": "code",
   "execution_count": 1,
   "metadata": {},
   "outputs": [],
   "source": [
    "import gensim.downloader as api\n",
    "\n",
    "dataset = api.load(\"text8\")\n",
    "dataset = [wd for wd in dataset]\n"
   ]
  },
  {
   "cell_type": "code",
   "execution_count": null,
   "metadata": {},
   "outputs": [],
   "source": [
    "from gensim import corpora\n",
    "import gensim\n",
    "\n",
    "dct = corpora.Dictionary(dataset)\n",
    "corpus = [dct.doc2bow(line) for line in dataset]\n",
    "\n",
    "# Build the bigram models\n",
    "bigram = gensim.models.phrases.Phrases(dataset, min_count=3, threshold=10)\n",
    "\n",
    "# Construct bigram\n",
    "print(bigram[dataset[0]])"
   ]
  },
  {
   "cell_type": "code",
   "execution_count": null,
   "metadata": {},
   "outputs": [],
   "source": [
    "# Build the trigram models\n",
    "trigram = gensim.models.phrases.Phrases(bigram[dataset], threshold=10)\n",
    "\n",
    "# Construct trigram\n",
    "print(trigram[bigram[dataset[0]]])"
   ]
  },
  {
   "cell_type": "code",
   "execution_count": 4,
   "metadata": {},
   "outputs": [
    {
     "name": "stdout",
     "output_type": "stream",
     "text": [
      "n = 2\n",
      "n = 3\n",
      "n = 4\n",
      "Done.\n"
     ]
    }
   ],
   "source": [
    "from ngrams_maker import NGramsMaker\n",
    "\n",
    "maker = NGramsMaker(4, dataset)\n",
    "\n",
    "\n"
   ]
  },
  {
   "cell_type": "code",
   "execution_count": 6,
   "metadata": {},
   "outputs": [
    {
     "name": "stdout",
     "output_type": "stream",
     "text": [
      "[['with', 'the', 'aegis', 'of', 'zeus', 'when', 'he', 'goes', 'to', 'the', 'battlefield', 'the', 'entire', 'trojan', 'army', 'flees', 'behind', 'the', 'walls', 'of', 'troy', 'achilles', 'wrath', 'is', 'terrible', 'and', 'he', 'slays', 'many', 'trojan', 'warriors', 'and', 'allies', 'including', 'priam', 's', 'son', 'lycaon', 'whom', 'achilles', 'had', 'previously', 'captured', 'and', 'sold', 'into', 'slavery', 'but', 'who', 'had', 'been', 'returned', 'to', 'troy', 'eventually', 'hector', 'comes', 'out', 'of', 'the', 'walls', 'to', 'defend', 'the', 'honour', 'of', 'troy', 'he', 'asked', 'achilles', 'to', 'agree', 'that', 'the', 'body', 'of', 'the', 'loser', 'would', 'be', 'returned', 'for', 'proper', 'burial', 'by', 'the', 'winner', 'achilles', 'rejected', 'this', 'arrangement', 'saying', 'though', 'twenty', 'ransoms', 'and', 'thy', 'weight', 'in', 'gold', 'were', 'offered', 'i', 'would', 'refuse', 'it', 'all', 'stories', 'tell', 'that', 'hector', 'ran', 'about', 'troy', 'seven', 'times', 'and', 'achilles', 'followed', 'him', 'however', 'seeing', 'that', 'achilles', 'would', 'not', 'be', 'outrun', 'hector', 'stood', 'his', 'ground', 'and', 'fought', 'other', 'versions', 'of', 'the', 'tale', 'say', 'that', 'achilles', 'chased', 'after', 'hector', 'two', 'times', 'and', 'one', 'time', 'he', 'was', 'delivered', 'by', 'the', 'gods', 'however', 'on', 'their', 'second', 'encounter', 'achilles', 'trapped', 'hector', 'and', 'challenged', 'him', 'after', 'a', 'legendary', 'fight', 'achilles', 'kills', 'hector', 'influenced', 'by', 'his', 'anger', 'he', 'drags', 'the', 'body', 'of', 'hector', 'behind', 'his', 'chariot', 'round', 'the', 'walls', 'of', 'troy', 'three', 'times', 'and', 'refuses', 'to', 'allow', 'it', 'to', 'receive', 'funeral_rites', 'much', 'to', 'the', 'dismay', 'of', 'achilles', 'the', 'body', 'of', 'hector', 'miraculously', 'heals', 'and', 'will', 'not', 'decay', 'as', 'normally', 'expected', 'aphrodite', 'the', 'goddess', 'of', 'love', 'who', 'sided', 'with', 'troy', 'throughout', 'the', 'whole', 'conflict', 'put', 'a', 'protective', 'barrier', 'over', 'hector', 'which', 'kept', 'him', 'looking', 'like', 'he', 'did', 'before', 'he', 'was', 'viciously', 'killed', 'by', 'achilles', 'when', 'priam', 'the', 'king', 'of', 'troy', 'and', 'hector', 's', 'father', 'comes', 'secretly', 'into', 'the', 'greek', 'camp', 'to', 'plead', 'for', 'the', 'body', 'achilles', 'finally', 'relents', 'in', 'one', 'of', 'the', 'most', 'moving', 'scenes', 'of', 'the', 'iliad', 'he', 'receives', 'priam', 'graciously', 'and', 'allows', 'him', 'to', 'take', 'the', 'body', 'away', 'the', 'scene', 'is', 'intensely', 'moving', 'because', 'priam', 'the', 'king', 'of', 'one', 'of', 'the', 'greatest', 'cities', 'in', 'the', 'known', 'world', 'kneels', 'down', 'old', 'and', 'frail', 'as', 'he', 'is', 'and', 'kisses', 'the', 'hands', 'of', 'the', 'man', 'who', 'killed', 'his', 'son', 'the', 'greatness', 'of', 'achilles', 'lies', 'in', 'not', 'just', 'being', 'the', 'greatest', 'greek', 'fighter', 'ever', 'but', 'in', 'knowing', 'the', 'choice', 'provided', 'to', 'him', 'by', 'destiny', 'his', 'mother', 'thetis', 'had', 'prophesied', 'to', 'him', 'that', 'if', 'he', 'pulled_out', 'of', 'the', 'trojan_war', 'he', 'would', 'enjoy', 'a', 'long', 'and', 'a', 'happy', 'life', 'if', 'achilles', 'fought', 'however', 'he', 'would', 'die', 'before', 'the', 'walls', 'of', 'troy', 'but', 'assure', 'an', 'everlasting', 'glory', 'surpassing', 'that', 'of', 'all', 'other', 'heroes', 'he', 'had', 'made', 'the', 'choice', 'and', 'coming', 'face', 'to', 'face', 'with', 'it', 'showed', 'his', 'greatness', 'xanthos', 'during', 'the', 'trojan_war', 'xanthos', 'one', 'of', 'achilles', 'horses', 'was', 'rebuked', 'by', 'achilles', 'for', 'allowing', 'patroclus', 'to', 'be', 'killed', 'xanthos', 'responded', 'by', 'saying', 'hera', 'temporarily', 'gave', 'him', 'voice', 'to', 'do', 'so', 'that', 'a', 'god', 'and', 'a', 'mortal', 'had', 'killed', 'patroclus', 'and', 'a', 'god', 'and', 'a', 'mortal', 'would', 'soon', 'kill', 'achilles', 'too', 'memnon', 'cycnus', 'penthesilea', 'and', 'the', 'death', 'of', 'achilles', 'thetis', 'rising', 'from', 'the', 'sea', 'to', 'comfort', 'achilles', 'book', 'one', 'eight', 'by', 'thomas', 'banks', 'english', 'one', 'seven', 'seven', 'eight', 'victoria', 'and', 'albert', 'museum', 'shortly_after', 'the', 'death', 'of', 'hector', 'achilles', 'defeated', 'memnon', 'of', 'ethiopia', 'cycnus', 'of', 'colonae', 'and', 'the', 'amazonian', 'warrior', 'penthesilia', 'with', 'whom', 'achilles', 'also', 'had', 'an', 'affair', 'in', 'some', 'versions', 'as', 'predicted', 'by', 'hector', 'with', 'his', 'dying', 'breath', 'achilles', 'was', 'thereafter', 'killed', 'by', 'paris', 'either', 'by', 'an', 'arrow', 'to', 'the', 'heel', 'which', 'may', 'have', 'subsequently', 'become', 'fatally', 'infected', 'and', 'is', 'said', 'to', 'have', 'been', 'guided', 'by', 'apollo', 'or', 'in', 'an', 'older', 'version', 'by', 'a', 'knife', 'to', 'the', 'back', 'while', 'visiting', 'polyxena', 'a', 'princess', 'of', 'troy', 'both', 'versions', 'conspicuously', 'deny', 'the', 'killer', 'any', 'sort', 'of', 'valor', 'and', 'achilles', 'remains', 'undefeated', 'on', 'the', 'battlefield', 'paris', 'was', 'later', 'killed', 'by', 'philoctetes', 'using', 'the', 'enormous', 'bow', 'of', 'heracles', 'his', 'bones', 'are', 'mingled', 'with', 'those', 'of', 'patroclus', 'and', 'funeral', 'games', 'are', 'held', 'like', 'ajax', 'he', 'is', 'represented', 'although', 'not', 'by', 'homer', 'as', 'living', 'after', 'his', 'death', 'in', 'the', 'island', 'of', 'leuke', 'at', 'the', 'mouth', 'of', 'the', 'danube', 'the', 'fate', 'of', 'achilles', 'armor', 'achilles', 'armor', 'was', 'the', 'object', 'of', 'a', 'feud_between', 'odysseus', 'and', 'ajax', 'the', 'greater', 'achilles', 'older', 'cousin', 'they', 'competed', 'for', 'it', 'and', 'odysseus', 'won', 'ajax', 'went', 'mad', 'with', 'grief', 'and', 'vowed', 'to', 'kill', 'his', 'comrades', 'he', 'started', 'killing', 'cattle', 'thinking', 'they', 'were', 'greek', 'soldiers', 'and', 'then', 'himself', 'other', 'stories', 'about', 'achilles', 'some', 'post', 'homeric', 'sources', 'claim', 'that', 'in', 'order', 'to', 'keep', 'achilles', 'safe', 'from', 'the', 'war', 'thetis', 'or', 'in', 'some', 'versions', 'peleus', 'hid', 'the', 'young', 'man', 'at', 'the', 'court', 'of', 'lycomedes', 'king', 'of', 'skyros', 'there', 'achilles', 'was', 'disguised', 'as', 'a', 'girl', 'and', 'lived', 'among', 'lycomedes', 'daughters', 'under', 'the', 'name', 'pyrrha', 'the', 'red_haired', 'girl', 'with', 'lycomedes', 'daughter', 'deidamia', 'achilles', 'fathered', 'a', 'son', 'neoptolemus', 'also', 'called', 'pyrrhus', 'after', 'his', 'father', 's', 'alias', 'according', 'to', 'this', 'story', 'odysseus', 'learned', 'from', 'the', 'prophet', 'calchas', 'that', 'the', 'achaeans', 'would', 'be', 'unable', 'to', 'capture', 'troy', 'without', 'achilles', 'aid', 'he', 'went', 'to', 'skyros', 'in', 'the', 'guise', 'of', 'a', 'peddler', 'selling', 'women', 's', 'clothes', 'and', 'jewelry', 'but', 'placed', 'a', 'shield', 'and', 'spear', 'among', 'his', 'goods', 'when', 'achilles', 'instantly', 'took', 'up', 'the', 'spear', 'odysseus', 'saw', 'through', 'his', 'disguise', 'and', 'convinced', 'him', 'to', 'join', 'the', 'trojan', 'campaign', 'in', 'another', 'version', 'of', 'the', 'story', 'odysseus', 'arranged', 'for', 'a', 'trumpet', 'alarm', 'to', 'be', 'sounded', 'while', 'he', 'was', 'with', 'lycomedes', 'women', 'while', 'the', 'women', 'fled', 'in', 'panic', 'achilles', 'prepared', 'to', 'defend', 'the', 'court', 'thus', 'giving', 'his', 'identity', 'away', 'the', 'story', 'about', 'achilles', 'in', 'drag', 'is', 'not', 'found', 'in', 'homer', 'in', 'homer', 's', 'odyssey', 'there', 'is', 'a', 'passage', 'in', 'which', 'odysseus', 'sails', 'to', 'the', 'underworld', 'and', 'converses', 'with', 'the', 'shades', 'one', 'of', 'these', 'is', 'achilles', 'who', 'when', 'greeted', 'as', 'blessed', 'in', 'life', 'blessed', 'in', 'death', 'responds', 'that', 'he', 'would', 'rather', 'be', 'a', 'slave', 'than', 'be', 'dead', 'this', 'has', 'been', 'interpreted', 'as', 'a', 'rejection', 'of', 'his', 'warrior', 'life', 'but', 'also', 'as', 'indignity', 'to', 'his', 'martyrdom', 'being', 'slighted', 'the', 'kings', 'of', 'epirus', 'claimed', 'to', 'be', 'descended', 'from', 'achilles', 'through', 'his', 'son', 'alexander', 'the', 'great', 'son', 'of', 'the', 'epiran', 'princess', 'olympias', 'could', 'therefore', 'also', 'claim', 'this', 'descent', 'and', 'in', 'many', 'ways', 'strove', 'to', 'be', 'like', 'his', 'great', 'ancestor', 'he', 'is', 'said', 'to', 'have', 'visited', 'his', 'tomb', 'while', 'passing', 'troy', 'achilles', 'was', 'worshipped', 'as', 'a', 'sea', 'god', 'in', 'many', 'of', 'the', 'greek', 'colonies', 'on', 'the', 'black_sea', 'the', 'homosexual', 'relationship_between', 'achilles', 'and', 'patroclus', 'is', 'something', 'much', 'explored', 'in', 'post', 'homeric', 'literature', 'by', 'the', 'fifth', 'and', 'fourth', 'centuries', 'the', 'deep', 'and', 'arguably', 'ambiguous', 'friendship', 'portrayed', 'in', 'homer', 'blossomed', 'into', 'an', 'unequivocal', 'love_affair', 'in', 'the', 'works', 'of', 'aeschylus', 'plato', 'and', 'aeschines', 'and', 'seems', 'to', 'have', 'inspired', 'the', 'enigmatic', 'verses', 'in', 'lycophron', 's', 'third_century', 'alexandra', 'that', 'claim', 'achilles', 'slayed', 'troilus', 'in', 'a', 'matter', 'of', 'unrequited_love', 'achilles', 'fought', 'and', 'killed', 'the', 'amazon', 'helene', 'some', 'also', 'said', 'he', 'married', 'medea', 'and', 'that', 'after', 'both', 'their', 'deaths', 'they', 'were', 'united', 'in', 'the', 'elysian_fields', 'of', 'hades', 'as', 'hera', 'promised', 'thetis', 'in', 'apollonius', 'argonautica', 'achilles', 'in', 'lost', 'plays', 'in', 'the', 'early', 'one', 'nine', 'nine', 'zero', 's', 'a', 'lost', 'play', 'by', 'aeschylus', 'was', 'discovered', 'in', 'the', 'wrappings', 'of', 'a', 'mummy', 'in', 'egypt', 'the', 'play', 'achilles', 'was', 'part', 'of', 'a', 'trilogy', 'about', 'the', 'trojan_war', 'it', 'was', 'known', 'to', 'exist', 'due', 'to', 'mentions', 'in', 'ancient', 'sources', 'but', 'had', 'been', 'lost', 'for', 'over', 'two', 'zero', 'zero', 'zero', 'years', 'another', 'lost', 'play', 'by', 'aeschylus', 'the', 'myrmidons', 'focussed', 'on', 'the', 'relationship_between', 'achilles', 'and', 'patroclus', 'only', 'a', 'few', 'lines', 'survive', 'today', 'there', 'is', 'another', 'lost', 'play', 'with', 'achilles', 'as', 'the', 'main', 'character', 'the', 'lovers', 'of', 'achilles', 'by', 'sophocles', 'spoken', 'word', 'myths', 'audio', 'achilles', 'in', 'music', 'achilles', 'has', 'frequently', 'been', 'mentioned', 'in', 'music', 'achilles', 'agony', 'by', 'manowar', 'from', 'the', 'album', 'the', 'triumph', 'of', 'steel', 'one', 'nine', 'nine', 'two', 'atlantic', 'records', 'achilles', 'last', 'stand', 'by', 'led_zeppelin', 'from', 'the', 'album', 'presence', 'one', 'nine', 'seven', 'six', 'atlantic', 'records', 'achilles', 'revenge', 'is', 'a', 'song', 'by', 'warlord', 'achilles_heel', 'is', 'an', 'album', 'by', 'the', 'indie_rock_band', 'pedro', 'the', 'lion', 'achilles', 'and', 'his', 'heel', 'are', 'referenced', 'in', 'the', 'song', 'special', 'k', 'by', 'the', 'rock_band', 'placebo', 'achilles', 'is', 'referred', 'to', 'in', 'bob_dylan', 's', 'song', 'temporary', 'like', 'achilles', 'achilles_heel', 'is', 'a', 'song', 'by', 'the', 'uk', 'band', 'toploader', 'achilles', 'is', 'a', 'song', 'by', 'the', 'colorado', 'based', 'power', 'metal_band', 'jag', 'panzer', 'from', 'the', 'album', 'casting', 'the', 'stones', 'achilles', 'is', 'referenced', 'in', 'the', 'indigo', 'girls', 'song', 'ghost', 'achilles', 'in', 'film', 'the', 'role', 'of', 'achilles', 'has', 'been', 'played', 'by', 'stanley', 'baker', 'in', 'helen', 'of', 'troy', 'one', 'nine', 'five', 'six', 'arturo', 'dominici', 'in', 'la_guerra', 'di', 'troia', 'one', 'nine', 'six', 'two', 'derek_jacobi', 'voice', 'in', 'achilles', 'channel', 'four', 'television', 'one', 'nine', 'nine', 'five', 'steve', 'davislim', 'in', 'la_belle', 'h', 'l', 'ne', 'tv', 'one', 'nine', 'nine', 'six', 'joe', 'montana', 'in', 'helen', 'of', 'troy', 'tv', 'two', 'zero', 'zero', 'three', 'brad_pitt', 'in', 'troy', 'two', 'zero', 'zero', 'four', 'namesakes', 'the', 'royal', 'new_zealand', 'navy', 'gave', 'the', 'name', 'hmnzs', 'achilles', 'to', 'an', 'a', 'class', 'destroyer', 'which', 'served', 'in', 'world_war_ii', 'references', 'homer_iliad', 'homer', 'odyssey', 'xi', 'four', 'six', 'seven', 'five', 'four', 'zero', 'apollodorus', 'bibliotheca', 'iii', 'xiii', 'five', 'eight', 'apollodorus_epitome', 'iii', 'one', 'four', 'v', 'seven', 'ovid_metamorphoses', 'xi', 'two', 'one', 'seven', 'two', 'six', 'five', 'xii', 'five', 'eight', 'zero', 'xiii', 'three', 'nine', 'eight', 'ovid', 'heroides', 'iii', 'apollonius', 'rhodius', 'argonautica', 'iv', 'seven', 'eight', 'three', 'eight', 'seven', 'nine', 'dante', 'the', 'divine_comedy', 'inferno', 'v', 'bibliography', 'ileana', 'chirassi', 'colombo', 'heros', 'achilleus', 'theos', 'apollon', 'in', 'il', 'mito', 'greco', 'd', 'bruno', 'gentili', 'anthony', 'edwards', 'achilles', 'in', 'the', 'underworld', 'iliad', 'odyssey', 'and', 'thiopis', 'greek', 'roman', 'and', 'byzantine', 'studies', 'two', 'six', 'one', 'nine', 'eight', 'five', 'pp', 'two', 'one', 'five', 'two', 'two', 'seven', 'achilles', 'in', 'the', 'odyssey', 'ideologies', 'of', 'heroism', 'in', 'the', 'homeric', 'epic', 'beitrage', 'zur', 'klassischen', 'philologie', 'one', 'seven', 'one', 'meisenheim', 'one', 'nine', 'eight', 'five', 'kleos', 'aphthiton', 'and', 'oral', 'theory', 'classical', 'quarterly', 'three', 'eight', 'one', 'nine', 'eight', 'eight', 'pp', 'two', 'five', 'three', 'zero', 'h', 'l', 'ne', 'monsacr', 'les', 'larmes', 'd', 'achille', 'le', 'h', 'ros', 'la_femme', 'et_la', 'souffrance', 'dans_la', 'po', 'sie', 'd', 'hom', 're', 'paris', 'albin', 'michel', 'one', 'nine', 'eight', 'four', 'gregory', 'nagy', 'the', 'best', 'of', 'the', 'acheans', 'concepts', 'of', 'the', 'hero', 'in', 'archaic', 'greek', 'poetry', 'johns_hopkins_university', 'one', 'nine', 'nine', 'nine', 'rev', 'edition', 'the', 'name', 'of', 'achilles', 'questions', 'of', 'etymology', 'and', 'folk_etymology', 'illinois', 'classical', 'studies', 'one', 'nine', 'one', 'nine', 'nine', 'four', 'dale', 's', 'sinos', 'the', 'entry', 'of', 'achilles', 'into', 'greek', 'epic', 'ph_d_thesis', 'johns_hopkins_university', 'johansson_warren', 'achilles', 'encyclopedia', 'of', 'homosexuality', 'dynes', 'wayne', 'r', 'ed', 'garland_publishing', 'one', 'nine', 'nine', 'zero', 'p', 'eight', 'external_links', 'the', 'story', 'of', 'achilles', 'and', 'patroclus', 'trojan_war', 'resources', 'people', 'who', 'fought', 'in', 'the', 'trojan_war', 'anti', 'heroes', 'pederastic_heroes', 'and', 'deities', 'for', 'other', 'uses', 'of', 'the', 'name', 'abraham_lincoln', 'see', 'abraham_lincoln', 'disambiguation', 'abraham_lincoln', 'february', 'one', 'two', 'one', 'eight', 'zero', 'nine', 'april', 'one', 'five', 'one', 'eight', 'six', 'five', 'sometimes', 'called', 'abe', 'lincoln', 'and', 'nicknamed', 'honest', 'abe', 'the', 'rail', 'splitter', 'and', 'the', 'great', 'emancipator', 'was', 'the', 'one', 'six', 'th', 'president', 'of', 'the', 'united_states', 'one', 'eight', 'six', 'one', 'to', 'one', 'eight', 'six', 'five', 'and', 'the', 'first', 'president', 'from', 'the', 'republican_party', 'lincoln', 'opposed', 'the', 'expansion', 'of', 'slavery', 'and', 'oversaw', 'the', 'union', 'war', 'effort', 'during', 'the', 'american_civil_war', 'he', 'selected', 'the', 'generals', 'and', 'approved', 'their', 'strategy', 'selected', 'senior', 'civilian', 'officials', 'supervised', 'diplomacy', 'patronage', 'and', 'party', 'affairs', 'rallied', 'public_opinion', 'through', 'messages', 'and', 'speeches', 'such', 'as', 'the', 'gettysburg_address', 'and', 'took', 'personal', 'charge', 'of', 'plans', 'for', 'the', 'abolition', 'of', 'slavery', 'and', 'the', 'reconstruction', 'of', 'the', 'union', 'he', 'was', 'assassinated', 'as', 'the', 'war', 'ended', 'by', 'john_wilkes_booth', 'role', 'in', 'history', 'president', 'lincoln', 'was', 'opposed', 'to', 'what', 'he', 'saw', 'as', 'the', 'slave', 'power', 'and', 'staunchly', 'opposed', 'its', 'efforts', 'to', 'expand', 'slavery', 'into', 'federal', 'territories', 'his', 'victory', 'in', 'the', 'one', 'eight', 'six', 'zero', 'presidential_election', 'further', 'polarized', 'an', 'already', 'divided', 'nation', 'before', 'his', 'inauguration', 'in', 'march', 'of', 'one', 'eight', 'six', 'one', 'seven', 'southern', 'states', 'seceded', 'from', 'the', 'united_states', 'formed', 'the', 'confederate_states', 'of', 'america', 'and', 'took', 'control', 'of', 'u', 's', 'forts', 'and', 'other', 'properties', 'within', 'their', 'boundaries', 'these', 'events', 'soon', 'led', 'to', 'the', 'american_civil_war', 'lincoln', 'is', 'often', 'praised', 'for', 'his', 'work', 'as', 'a', 'wartime', 'leader', 'who', 'proved', 'adept', 'at', 'balancing', 'competing', 'considerations', 'and', 'at', 'getting', 'rival', 'groups', 'to', 'work', 'together', 'toward', 'a', 'common', 'goal', 'lincoln', 'had', 'to', 'negotiate', 'between', 'radical', 'and', 'moderate', 'republican', 'leaders', 'who', 'were', 'often', 'far', 'apart', 'on', 'the', 'issues', 'while', 'attempting', 'to', 'win', 'support', 'from', 'war', 'democrats', 'and', 'loyalists', 'in', 'the', 'seceding', 'states', 'he', 'personally', 'directed', 'the', 'war', 'effort', 'in', 'close', 'cooperation', 'one', 'eight', 'six', 'four', 'six', 'five', 'with', 'general_ulysses', 's', 'grant', 'which', 'ultimately', 'led', 'the', 'union', 'forces', 'to', 'victory', 'over', 'the', 'confederacy', 'his', 'leadership', 'qualities', 'were', 'evident', 'in', 'his', 'diplomatic', 'handling', 'of', 'the', 'border', 'slave', 'states', 'at', 'the', 'beginning', 'of', 'the', 'fighting', 'in', 'his', 'defeat', 'of', 'a', 'congressional', 'attempt', 'to', 'reorganize', 'his', 'cabinet', 'in', 'one', 'eight', 'six', 'two', 'in', 'his', 'many', 'speeches', 'and', 'writings', 'which', 'helped', 'mobilize', 'and', 'inspire', 'the', 'north', 'and', 'in', 'his', 'defusing', 'of', 'the', 'peace', 'issue', 'in', 'the', 'one', 'eight', 'six', 'four', 'presidential_campaign', 'copperheads', 'vehemently', 'criticized', 'him', 'for', 'violating', 'the', 'constitution', 'overstepping', 'the', 'bounds', 'of', 'executive_power', 'refusing', 'to', 'compromise', 'on', 'slavery', 'declaring', 'martial_law', 'suspending', 'habeas_corpus', 'ordering', 'the', 'arrest', 'of', 'thousands', 'of', 'public', 'officials', 'and', 'a', 'number', 'of', 'newspaper', 'publishers', 'and', 'killing', 'hundreds', 'of', 'thousands', 'of', 'young', 'men', 'radical', 'republicans', 'criticized', 'him', 'for', 'going', 'too', 'slow', 'on', 'abolition', 'of', 'slavery', 'and', 'not', 'being', 'ruthless', 'enough', 'toward', 'the', 'conquered', 'south', 'lincoln', 'is', 'most', 'famous', 'for', 'his', 'roles', 'in', 'preserving', 'the', 'union', 'and', 'ending', 'slavery', 'in', 'the', 'united_states', 'with', 'the', 'emancipation_proclamation', 'and', 'the', 'thirteenth_amendment', 'to', 'the', 'united_states', 'constitution', 'however', 'some', 'abolitionists', 'criticized', 'him', 'for', 'only', 'freeing', 'the', 'slaves', 'under', 'the', 'confederacy', 'in', 'one', 'eight', 'six', 'three', 'and', 'waiting', 'until', 'one', 'eight', 'six', 'five', 'to', 'free', 'slaves', 'held', 'in', 'the', 'union', 'historians', 'have', 'argued', 'that', 'lincoln', 'had', 'a', 'lasting', 'influence', 'on', 'u', 's', 'political', 'and', 'social', 'institutions', 'importantly', 'setting', 'a', 'precedent', 'for', 'greater', 'centralization', 'of', 'powers', 'in', 'the', 'federal_government', 'and', 'the', 'weakening', 'of', 'the', 'powers', 'of', 'the', 'individual', 'state', 'governments', 'lincoln', 'spent', 'most', 'of', 'his', 'attention', 'on', 'military', 'matters', 'and', 'politics', 'but', 'with', 'his', 'strong', 'support', 'his', 'administration', 'established', 'the', 'current', 'system', 'of', 'national', 'banks', 'with', 'the', 'national', 'bank', 'act', 'he', 'increased', 'the', 'tariff', 'to', 'raise', 'revenue', 'and', 'encourage', 'factories', 'imposed', 'the', 'first', 'income_tax', 'issued', 'hundreds', 'of', 'millions', 'of', 'dollars', 'of', 'bonds', 'and', 'greenbacks', 'encouraged', 'immigration', 'from', 'europe', 'built', 'the', 'transcontinental_railroad', 'set', 'up', 'the', 'department', 'of', 'agriculture', 'encouraged', 'farm', 'ownership', 'with', 'the', 'homestead_act', 'of', 'one', 'eight', 'six', 'two', 'and', 'set', 'up', 'the', 'modern', 'system', 'of', 'state', 'universities', 'with', 'the', 'morrill', 'land', 'grant', 'colleges', 'act', 'during', 'the', 'war', 'his', 'treasury_department', 'effectively', 'controlled', 'all', 'cotton', 'trade', 'in', 'the', 'occupied', 'south', 'the', 'most', 'dramatic', 'incursion', 'of', 'federal', 'controls', 'on', 'the', 'economy', 'during', 'his', 'administration', 'west_virginia', 'and', 'nevada', 'were', 'admitted', 'as', 'states', 'lincoln', 'is', 'usually', 'ranked', 'as', 'one', 'of', 'the', 'greatest', 'presidents', 'because', 'of', 'his', 'roles', 'in', 'destroying', 'slavery', 'redefining', 'national', 'values', 'and', 'saving', 'the', 'union', 'his', 'assassination', 'made', 'him', 'a', 'martyr', 'to', 'millions', 'of', 'americans', 'however', 'others', 'considered', 'him', 'an', 'unconstitutional', 'tyrant', 'for', 'declaring', 'martial_law', 'suspending', 'civil_liberties', 'habeas_corpus', 'and', 'the', 'first', 'amendment', 'and', 'ordering', 'the', 'arrest', 'of', 'thousands', 'of', 'public', 'officials', 'and', 'newspaper', 'publishers', 'early', 'life', 'abraham_lincoln', 'was', 'born', 'on', 'february', 'one', 'two', 'one', 'eight', 'zero', 'nine', 'in', 'a', 'one', 'room', 'log_cabin', 'on', 'the', 'three', 'four', 'eight', 'acre', 'one', 'four', 'km', 'sinking', 'spring', 'farm', 'in', 'the', 'southeast', 'part', 'of', 'hardin', 'county_kentucky', 'then', 'considered', 'the', 'frontier', 'now', 'part', 'of', 'larue', 'co', 'in', 'nolin', 'creek', 'three', 'miles', 'five', 'km', 'south', 'of', 'hodgenville', 'to', 'thomas', 'lincoln', 'and', 'nancy', 'hanks', 'lincoln', 'was', 'named', 'after', 'his', 'deceased', 'grandfather', 'who', 'was', 'scalped', 'in', 'one', 'seven', 'eight', 'six', 'in', 'an', 'indian', 'raid', 'he', 'had', 'no', 'middle', 'name', 'lincoln', 's', 'parents', 'were', 'uneducated', 'illiterate', 'farmers', 'when', 'lincoln', 'became', 'famous', 'reporters', 'and', 'storytellers', 'often', 'exaggerated', 'the', 'poverty', 'and', 'obscurity', 'of', 'his', 'birth', 'however', 'lincoln', 's', 'father', 'thomas', 'was', 'a', 'respected', 'and', 'relatively', 'affluent', 'citizen', 'of', 'the', 'kentucky', 'backcountry', 'he', 'had', 'purchased', 'the', 'sinking', 'spring', 'farm', 'in', 'december', 'one', 'eight', 'zero', 'eight', 'for', 'two', 'zero', 'zero', 'cash', 'and', 'assumption', 'of', 'a', 'debt', 'his', 'parents', 'belonged', 'to', 'a', 'baptist_church', 'that', 'had', 'pulled', 'away', 'from', 'a', 'larger', 'church', 'because', 'they', 'refused', 'to', 'support', 'slavery', 'from', 'a', 'very', 'young', 'age', 'lincoln', 'was', 'exposed', 'to', 'anti_slavery', 'sentiment', 'however', 'he', 'never', 'joined', 'his', 'parents', 'church', 'or', 'any', 'other', 'church', 'and', 'as', 'a', 'youth', 'ridiculed', 'religion', 'three', 'years', 'after', 'purchasing', 'the', 'property', 'a', 'prior', 'land', 'claim', 'filed', 'in', 'hardin', 'circuit_court', 'forced', 'the', 'lincolns', 'to', 'move', 'thomas', 'continued', 'legal', 'action', 'until', 'he', 'lost', 'the', 'case', 'in', 'one', 'eight', 'one', 'five', 'legal', 'expenses', 'contributed', 'to', 'family', 'difficulties', 'in', 'one', 'eight', 'one', 'one', 'they', 'were', 'able', 'to', 'lease', 'three', 'zero', 'acres', 'zero', 'one', 'km', 'of', 'a', 'two', 'three', 'zero', 'acre', 'zero', 'nine', 'km', 'farm', 'on', 'knob', 'creek', 'a', 'few', 'miles', 'away', 'where', 'they', 'then', 'moved', 'in', 'a', 'valley', 'of', 'the', 'rolling', 'fork', 'river', 'this', 'was', 'some', 'of', 'the', 'best', 'farmland', 'in', 'the', 'area', 'at', 'this', 'time', 'lincoln', 's', 'father', 'was', 'a', 'respected', 'community', 'member', 'and', 'a', 'successful', 'farmer', 'and', 'carpenter', 'lincoln', 's', 'earliest', 'recollections', 'are', 'from', 'this', 'farm', 'in', 'one', 'eight', 'one', 'five', 'another', 'claimant', 'sought', 'to', 'eject', 'the', 'family', 'from', 'the', 'knob', 'creek', 'farm', 'frustrated', 'with', 'litigation', 'and', 'lack', 'of', 'security', 'provided', 'by', 'kentucky', 'courts', 'thomas', 'decided', 'to', 'move', 'to', 'indiana', 'which', 'had', 'been', 'surveyed', 'by', 'the', 'federal_government', 'making', 'land', 'titles', 'more', 'secure', 'it', 'is', 'possible', 'that', 'these', 'episodes', 'motivated', 'abraham', 'to', 'later', 'learn', 'surveying', 'and', 'become', 'an', 'attorney', 'in', 'one', 'eight', 'one', 'six', 'when', 'lincoln', 'was', 'seven', 'years', 'old', 'he', 'and', 'his', 'parents', 'moved', 'to', 'spencer', 'county_indiana', 'he', 'would', 'state', 'partly', 'on', 'account', 'of', 'slavery', 'and', 'partly_because', 'of', 'economic_difficulties', 'in', 'kentucky', 'in', 'one', 'eight', 'one', 'eight', 'lincoln', 's', 'mother', 'died', 'of', 'milk', 'sickness', 'at', 'age', 'thirty', 'four', 'when', 'abe', 'was', 'nine', 'soon_afterwards', 'lincoln', 's', 'father', 'remarried', 'to', 'sarah', 'bush', 'johnston', 'sarah', 'lincoln', 'raised', 'young', 'lincoln', 'like', 'one', 'of', 'her', 'own', 'children', 'years', 'later', 'she', 'compared', 'lincoln', 'to', 'her', 'own', 'son', 'saying', 'both', 'were', 'good', 'boys', 'but', 'i', 'must', 'say', 'both', 'now', 'being', 'dead', 'that', 'abe', 'was', 'the', 'best', 'boy', 'i', 'ever', 'saw', 'or', 'ever', 'expect', 'to', 'see', 'lincoln', 'by', 'david', 'herbert', 'donald', 'one', 'nine', 'nine', 'five', 'in', 'one', 'eight', 'three', 'zero', 'after', 'more', 'economic', 'and', 'land', 'title', 'difficulties', 'in', 'indiana', 'the', 'family', 'settled', 'on', 'government', 'land', 'on', 'a', 'site', 'selected', 'by', 'lincoln', 's', 'father', 'in', 'macon', 'county', 'illinois', 'the', 'following', 'winter', 'was', 'especially', 'brutal', 'and', 'the', 'family', 'nearly', 'moved', 'back', 'to', 'indiana', 'when', 'his', 'father', 'relocated', 'the', 'family', 'to', 'a', 'nearby', 'site', 'the', 'following', 'year', 'the', 'two', 'two', 'year', 'old', 'lincoln', 'struck', 'out', 'on', 'his', 'own', 'canoeing', 'down', 'the', 'sangamon', 'to', 'sangamon', 'county', 'illinois', 'now', 'in', 'menard', 'county', 'in', 'the', 'village', 'of', 'new', 'salem', 'later', 'that', 'year', 'hired', 'by', 'new', 'salem', 'businessman', 'denton', 'offutt', 'and', 'accompanied', 'by', 'friends', 'he', 'took', 'goods', 'from', 'new', 'salem', 'to', 'new_orleans', 'via', 'flatboat', 'on', 'the', 'sangamon', 'illinois', 'and', 'mississippi', 'rivers', 'while', 'in', 'new_orleans', 'he', 'may', 'have', 'witnessed', 'a', 'slave', 'auction', 'that', 'left', 'an', 'indelible', 'impression', 'on', 'him', 'for', 'the', 'rest', 'of', 'his', 'life', 'whether', 'he', 'actually', 'witnessed', 'a', 'slave', 'auction', 'at', 'that', 'time', 'or', 'not', 'living', 'in', 'a', 'country', 'with', 'a', 'considerable', 'slave', 'presence', 'he', 'probably', 'saw', 'similar', 'atrocities', 'from', 'time', 'to', 'time', 'his', 'formal', 'education', 'consisted', 'of', 'perhaps', 'one', 'eight', 'months', 'of', 'schooling', 'from', 'itinerant', 'teachers', 'in', 'effect', 'he', 'was', 'self', 'educated', 'studying', 'every', 'book', 'he', 'could', 'borrow', 'he', 'mastered', 'the', 'bible', 'shakespeare', 'english', 'history', 'and', 'american', 'history', 'and', 'developed', 'a', 'plain', 'style', 'that', 'puzzled', 'audiences', 'more', 'used', 'to', 'orotund', 'oratory', 'he', 'avoided', 'hunting', 'and', 'fishing', 'because', 'he', 'did_not', 'like', 'killing', 'animals', 'even', 'for', 'food', 'and', 'though', 'unusually', 'tall', 'and', 'strong', 'spent', 'so', 'much', 'time', 'reading', 'that', 'some', 'neighbors', 'thought', 'he', 'must', 'be', 'doing', 'it', 'to', 'avoid', 'strenuous', 'manual', 'labor', 'he', 'was', 'skilled', 'with', 'an', 'axe', 'they', 'called', 'him', 'the', 'rail', 'splitter', 'and', 'a', 'good', 'wrestler', 'young', 'abraham_lincoln', 'early', 'career', 'lincoln', 'began', 'his', 'political', 'career', 'in', 'one', 'eight', 'three', 'two', 'at', 'the', 'age', 'of', 'two', 'three', 'with', 'a', 'campaign', 'for', 'the', 'illinois', 'general_assembly', 'as', 'a', 'member', 'of', 'the', 'whig_party', 'the', 'centerpiece', 'of', 'his', 'platform', 'was', 'the', 'undertaking', 'of', 'navigational', 'improvements', 'on', 'the', 'sangamon', 'river', 'in', 'the', 'hopes', 'of', 'attracting', 'steamboat', 'traffic', 'to', 'the', 'river', 'which', 'would', 'allow', 'sparsely_populated', 'poor', 'areas', 'along', 'and', 'near', 'the', 'river', 'to', 'grow', 'and', 'prosper', 'he', 'served', 'as', 'a', 'captain', 'in', 'a', 'company', 'of', 'the', 'illinois', 'militia', 'drawn', 'from', 'new', 'salem', 'during', 'the', 'black_hawk_war', 'although', 'he', 'never', 'saw', 'combat', 'he', 'wrote', 'after', 'being', 'elected', 'by', 'his', 'peers', 'that', 'he', 'had', 'not', 'had', 'any', 'such', 'success', 'in', 'life', 'which', 'gave', 'him', 'so', 'much', 'satisfaction', 'he', 'later', 'tried', 'and', 'failed', 'at', 'several', 'small', 'time', 'business_ventures', 'he', 'held', 'an', 'illinois', 'state', 'liquor', 'license', 'and', 'sold', 'whiskey', 'finally', 'after', 'coming', 'across', 'the', 'second', 'volume', 'of', 'sir_william', 'blackstone', 's', 'four', 'volume', 'commentaries', 'on', 'the', 'laws', 'of', 'england', 'he', 'taught', 'himself', 'the', 'law', 'and', 'was', 'admitted', 'to', 'the', 'illinois', 'bar', 'in', 'one', 'eight', 'three', 'seven', 'that', 'same', 'year', 'he', 'moved', 'to', 'springfield_illinois', 'and', 'began', 'to', 'practice', 'law', 'with', 'stephen', 't', 'logan', 'he', 'became', 'one', 'of', 'the', 'most', 'respected', 'and', 'successful', 'lawyers', 'in', 'the', 'prairie', 'state', 'and', 'grew_steadily', 'more', 'prosperous', 'lincoln', 'served', 'four', 'successive', 'terms', 'in', 'the', 'illinois', 'house', 'of', 'representatives', 'as', 'a', 'representative', 'from', 'sangamon', 'county', 'beginning', 'in', 'one', 'eight', 'three', 'four', 'he', 'became', 'a', 'leader', 'of', 'the', 'whig_party', 'in', 'the', 'legislature', 'in', 'one', 'eight', 'three', 'seven', 'he', 'made', 'his', 'first', 'protest_against', 'slavery', 'in', 'the', 'illinois', 'house', 'stating', 'that', 'the', 'institution', 'was', 'founded', 'on', 'both', 'injustice', 'and', 'bad', 'policy', 'lincoln', 'shared', 'a', 'bed', 'with', 'joshua', 'fry', 'speed', 'from', 'one', 'eight', 'three', 'seven', 'to', 'one', 'eight', 'four', 'one', 'in', 'springfield', 'while', 'many', 'historians', 'claim', 'it', 'was', 'not_uncommon', 'in', 'the', 'mid', 'one', 'nine', 'th_century', 'for', 'men', 'to', 'share', 'a', 'bed', 'just', 'as', 'two', 'men', 'today', 'may', 'share', 'a', 'house', 'or', 'an', 'apartment', 'gay', 'activist', 'c', 'a', 'tripp', 'generated', 'controversy', 'with', 'his', 'two', 'zero', 'zero', 'five', 'book', 'the', 'intimate', 'world', 'of', 'abraham_lincoln', 'which', 'suggested', 'their', 'relationship', 'may', 'also', 'have', 'been', 'sexual', 'in', 'one', 'eight', 'four', 'one', 'lincoln', 'entered', 'law', 'practice', 'with', 'william', 'herndon', 'a', 'fellow', 'whig', 'in', 'one', 'eight', 'five', 'six', 'both', 'men', 'joined', 'the', 'fledgling', 'republican_party', 'following', 'lincoln', 's', 'assassination', 'herndon', 'began', 'collecting', 'stories', 'about', 'lincoln', 'from', 'those', 'who', 'knew', 'him', 'in', 'central', 'illinois', 'eventually', 'publishing', 'a', 'book', 'herndon', 's', 'lincoln', 'lincoln', 'never', 'joined', 'an', 'antislavery', 'society', 'and', 'denied', 'he', 'supported', 'the', 'abolitionists', 'he', 'married', 'into', 'a', 'prominent', 'slave_owning', 'family', 'from', 'kentucky', 'and', 'allowed', 'his', 'children', 'to', 'spend', 'time', 'there', 'surrounded', 'by', 'slaves', 'several', 'of', 'his', 'in', 'laws', 'became', 'confederate', 'officers', 'he', 'greatly_admired', 'the', 'science', 'that', 'flourished', 'in', 'new', 'england', 'and', 'was', 'perhaps', 'the', 'only', 'father', 'in', 'illinois', 'at', 'the', 'time', 'to', 'send', 'his', 'son', 'robert_todd_lincoln', 'to', 'elite', 'eastern', 'schools', 'phillips_exeter_academy', 'and', 'harvard_college', 'marriage', 'on', 'november', 'four', 'one', 'eight', 'four', 'two', 'at', 'the', 'age', 'of', 'three', 'three', 'lincoln', 'married', 'mary', 'todd', 'the', 'couple', 'had', 'four', 'sons', 'robert_todd_lincoln', 'b', 'august', 'one', 'one', 'eight', 'four', 'three', 'in', 'springfield_illinois', 'd', 'july', 'two', 'six', 'one', 'nine', 'two', 'six', 'in', 'manchester', 'vermont', 'edward', 'baker', 'lincoln', 'b', 'march', 'one', 'zero', 'one', 'eight', 'four', 'six', 'in', 'springfield_illinois', 'd', 'february', 'one', 'one', 'eight', 'five', 'zero', 'in', 'springfield_illinois', 'william_wallace', 'lincoln', 'b', 'december', 'two', 'one', 'one', 'eight', 'five', 'zero', 'in', 'springfield_illinois', 'd', 'february', 'two', 'zero', 'one', 'eight', 'six', 'two', 'in', 'washington_d_c', 'thomas', 'tad', 'lincoln', 'b', 'april', 'four', 'one', 'eight', 'five', 'three', 'in', 'springfield_illinois', 'd', 'july', 'one', 'six', 'one', 'eight', 'seven', 'one', 'in', 'chicago_illinois', 'only', 'robert', 'survived', 'into', 'adulthood', 'of', 'robert', 's', 'three', 'children', 'only', 'jessie', 'lincoln', 'had', 'any', 'children', 'two', 'mary', 'lincoln', 'beckwith', 'and', 'robert_todd_lincoln', 'beckwith', 'neither', 'robert', 'beckwith', 'nor', 'mary', 'beckwith', 'had', 'any', 'children', 'so', 'abraham_lincoln', 's', 'bloodline', 'ended', 'when', 'robert', 'beckwith', 'lincoln', 's', 'great_grandson', 'died', 'on', 'december', 'two', 'four', 'one', 'nine', 'eight', 'five', 'illinois', 'politics', 'lincoln', 'in', 'one', 'eight', 'four', 'six', 'or', 'one', 'eight', 'four', 'seven', 'in', 'one', 'eight', 'four', 'six', 'lincoln', 'was', 'elected', 'to', 'one', 'term', 'in', 'the', 'u', 's', 'house', 'of', 'representatives', 'a', 'staunch', 'whig', 'lincoln', 'often', 'referred', 'to', 'party', 'leader', 'henry_clay', 'as', 'his', 'political', 'idol', 'as', 'a', 'freshman', 'house', 'member', 'lincoln', 'was', 'not', 'a', 'particularly', 'powerful', 'or', 'influential', 'figure', 'in', 'congress', 'he', 'used', 'his', 'office', 'as', 'an', 'opportunity', 'to', 'speak', 'out', 'against', 'the', 'war', 'with', 'mexico', 'which', 'he', 'attributed', 'to', 'president', 'polk', 's', 'desire', 'for', 'military', 'glory', 'that', 'attractive', 'rainbow', 'that', 'rises', 'in', 'showers', 'of', 'blood', 'lincoln', 'was', 'a', 'key', 'early', 'supporter', 'of', 'zachary_taylor', 's', 'candidacy', 'for', 'the', 'one', 'eight', 'four', 'eight', 'whig', 'presidential_nomination', 'when', 'lincoln', 's', 'term', 'ended', 'the', 'incoming', 'taylor', 'administration', 'offered', 'him', 'the', 'governorship', 'of', 'remote', 'oregon_territory', 'acceptance', 'would', 'end', 'his', 'career', 'in', 'the', 'fast_growing', 'state', 'of', 'illinois', 'so', 'he', 'declined', 'returning', 'instead', 'to', 'springfield_illinois', 'he', 'turned', 'most', 'of', 'his', 'energies', 'to', 'making', 'a', 'living', 'at', 'the', 'bar', 'which', 'involved', 'extensive', 'travel', 'on', 'horseback', 'from', 'county', 'to', 'county', 'prairie', 'lawyer', 'by', 'the', 'mid', 'one', 'eight', 'five', 'zero', 's', 'lincoln', 'faced', 'competing', 'transportation', 'interests', 'both', 'the', 'river', 'barges', 'and', 'the', 'railroads', 'in', 'one', 'eight', 'four', 'nine', 'he', 'received', 'a', 'patent', 'related', 'to', 'buoying', 'vessels', 'lincoln', 'represented', 'the', 'alton', 'duff', 'armstrong', 'who', 'was', 'on', 'trial', 'for', 'the', 'murder', 'of', 'james', 'preston', 'metzker', 'the', 'case', 'is', 'famous', 'for', 'lincoln', 's', 'use', 'of', 'judicial', 'notice', 'a', 'rare', 'tactic', 'at', 'that', 'time', 'to', 'show', 'an', 'eyewitness', 'had', 'lied', 'on', 'the', 'stand', 'claiming', 'he', 'witnessed', 'the', 'crime', 'in', 'the', 'moonlight', 'lincoln', 'produced', 'a', 'farmer', 's', 'almanac', 'to', 'show', 'that', 'the', 'moon', 'on', 'that', 'date', 'was', 'at', 'such', 'a', 'low', 'angle', 'it', 'could', 'not', 'have', 'produced', 'enough', 'illumination', 'to', 'see', 'anything', 'clearly', 'based', 'upon', 'this', 'evidence', 'armstrong', 'was', 'acquitted', 'republican', 'politics', 'one', 'eight', 'five', 'four', 'one', 'eight', 'six', 'zero', 'the', 'kansas_nebraska_act', 'of', 'one', 'eight', 'five', 'four', 'which', 'expressly', 'repealed', 'the', 'limits', 'on', 'slavery', 's', 'spread', 'that', 'had', 'been', 'part', 'of', 'the', 'missouri_compromise', 'of', 'one', 'eight', 'two', 'zero', 'drew', 'lincoln', 'back', 'into', 'politics', 'illinois', 'democrat', 'stephen', 'a', 'douglas', 'the', 'most', 'powerful', 'man', 'in', 'the', 'senate', 'proposed', 'popular', 'sovereignty', 'as', 'the', 'solution', 'to', 'the', 'slavery', 'impasse', 'incorporating', 'it', 'into', 'the', 'kansas_nebraska_act', 'douglas', 'argued', 'that', 'in', 'a', 'democracy', 'the', 'people', 'of', 'a', 'territory', 'should', 'decide_whether', 'to', 'allow', 'slavery', 'or', 'not', 'and', 'not', 'have', 'a', 'decision', 'imposed', 'on', 'them', 'by', 'congress', 'it', 'was', 'a', 'speech', 'against', 'kansas_nebraska', 'on', 'october', 'one', 'six', 'one', 'eight', 'five', 'four', 'in', 'peoria', 'that', 'caused', 'lincoln', 'to', 'stand', 'out', 'among', 'the', 'other', 'free', 'soil', 'orators', 'of', 'the', 'day', 'he', 'helped', 'form', 'the', 'new', 'republican_party', 'drawing', 'on', 'remnants', 'of', 'the', 'old', 'whig', 'free', 'soil', 'liberty', 'and', 'democratic', 'parties', 'in', 'a', 'stirring', 'campaign', 'the', 'republicans', 'carried', 'illinois', 'in', 'one', 'eight', 'five', 'four', 'and', 'elected', 'a', 'senator', 'lincoln', 'was', 'the', 'obvious', 'choice', 'but', 'to', 'keep', 'party', 'unity', 'he', 'allowed', 'the', 'election', 'to', 'go', 'to', 'his', 'colleague', 'lyman', 'trumbull', 'in', 'one', 'eight', 'five', 'seven', 'five', 'eight', 'douglas', 'broke', 'with', 'president', 'buchanan', 'leading', 'to', 'a', 'terrific', 'fight', 'for', 'control', 'of', 'the', 'democratic_party', 'some', 'eastern', 'republicans', 'even', 'favored', 'the', 'reelection', 'of', 'douglas', 'in', 'one', 'eight', 'five', 'eight', 'since', 'he', 'led', 'the', 'opposition', 'to', 'the', 'administration', 's', 'push', 'for', 'the', 'lecompton_constitution', 'which', 'would', 'have', 'admitted', 'kansas', 'as', 'a', 'slave', 'state', 'accepting', 'the', 'republican', 'nomination', 'for', 'the', 'senate', 'in', 'one', 'eight', 'five', 'eight', 'lincoln', 'delivered', 'a', 'famous', 'speech', 'in', 'which', 'he', 'stated', 'a', 'house', 'divided', 'against', 'itself', 'cannot', 'stand', 'i', 'believe', 'this', 'government', 'cannot', 'endure', 'permanently', 'half', 'slave', 'and', 'half', 'free', 'i', 'do_not', 'expect', 'the', 'union', 'to', 'be', 'dissolved', 'i', 'do_not', 'expect', 'the', 'house', 'to', 'fall', 'but', 'i', 'do', 'expect', 'it', 'will', 'cease', 'to', 'be', 'divided', 'it', 'will', 'become', 'all', 'one', 'thing', 'or', 'all', 'the', 'other', 'the', 'speech', 'created', 'a', 'lasting', 'image', 'of', 'the', 'danger', 'of', 'disunion', 'due', 'to', 'slavery', 'and', 'rallied', 'republicans', 'across', 'the', 'north', 'the', 'one', 'eight', 'five', 'eight', 'campaign', 'featured', 'the', 'lincoln', 'douglas', 'debates', 'a', 'nationally', 'noticed', 'discussion', 'on', 'the', 'issues', 'that', 'threatened', 'to', 'split', 'the', 'nation', 'in', 'two', 'lincoln', 'forced', 'douglas', 'to', 'propose', 'his', 'freeport', 'doctrine', 'which', 'lost', 'him', 'further', 'support', 'among', 'slave', 'holders', 'and', 'speeded', 'the', 'division', 'of', 'the', 'democratic_party', 'though', 'the', 'republican', 'legislative', 'candidates', 'won', 'more', 'popular', 'votes', 'the', 'democrats', 'won', 'more', 'seats', 'and', 'the', 'legislature', 'reelected', 'douglas', 'to', 'the', 'senate', 'nevertheless', 'lincoln', 's', 'eloquence', 'transformed', 'him', 'into', 'a', 'national', 'political', 'star', 'during', 'the', 'debates', 'of', 'one', 'eight', 'five', 'eight', 'the', 'issue', 'of', 'race', 'was', 'often', 'discussed', 'during', 'a', 'time', 'period', 'when', 'racial', 'egalitarianism', 'was', 'considered', 'politically', 'incorrect', 'stephen', 'douglas', 'would', 'inform', 'the', 'crowds', 'if', 'you', 'desire', 'negro', 'citizenship', 'if', 'you', 'desire', 'them', 'to', 'vote', 'on', 'an', 'equality', 'with', 'yourselves', 'then', 'support', 'mr', 'lincoln', 'and', 'the', 'black', 'republican_party', 'who', 'are', 'in', 'favor', 'of', 'the', 'citizenship', 'of', 'the', 'negro', 'official', 'records', 'of', 'debate', 'on', 'the', 'defensive', 'lincoln', 'countered', 'that', 'he', 'was', 'not', 'in', 'favor', 'of', 'bringing', 'about', 'in', 'any', 'way', 'the', 'social', 'and', 'political', 'equality', 'of', 'the', 'white', 'and', 'black', 'races', 'official', 'records', 'of', 'debate', 'historians', 'generally', 'remained', 'mixed', 'on', 'what', 'lincoln', 's', 'actual', 'views', 'were', 'on', 'race', 'however', 'many', 'tend', 'to', 'doubt', 'that', 'the', 'highly', 'political', 'nature', 'of', 'these', 'debates', 'offer', 'reliable', 'evidence', 'about', 'his', 'personal', 'views', 'team', 'of', 'rivals', 'by', 'doris_kearns', 'goodwin', 'two', 'zero', 'zero', 'five', 'lincoln', 'in', 'text', 'and', 'context', 'by', 'donald', 'fehrenbacher', 'one', 'nine', 'eight', 'seven', 'as', 'fredrick', 'douglass', 'observed', 'lincoln', 'was', 'the', 'first', 'great', 'man', 'that', 'i', 'talked', 'with', 'in', 'the', 'united_states', 'freely', 'who', 'in', 'no', 'single', 'instance', 'reminded', 'me', 'of', 'the', 'difference_between', 'himself', 'and', 'myself', 'of', 'the', 'difference', 'of', 'color', 'life', 'and', 'times', 'of', 'fredrick', 'douglass', 'by', 'fredrick', 'douglass', 'one', 'eight', 'nine', 'five', 'lincoln', 's', 'opposition', 'to', 'slavery', 'was', 'opposition', 'to', 'the', 'slave', 'power', 'and', 'he', 'was', 'not', 'an', 'abolitionist', 'in', 'one', 'eight', 'five', 'eight', 'but', 'the', 'civil_war', 'changed', 'everything', 'and', 'changed', 'lincoln', 's', 'beliefs', 'in', 'race', 'relations', 'as', 'well', 'election', 'of', 'one', 'eight', 'six', 'zero', 'the', 'rail', 'candidate', 'political', 'cartoon', 'one', 'eight', 'six', 'zero', 'entering', 'the', 'presidential_nomination', 'process', 'as', 'a', 'distinct', 'underdog', 'lincoln', 'was', 'eventually', 'chosen', 'as', 'the', 'republican_candidate', 'for', 'the', 'one', 'eight', 'six', 'zero', 'election', 'for', 'several', 'reasons', 'his', 'expressed', 'views', 'on', 'slavery', 'were', 'seen', 'as', 'more', 'moderate', 'than', 'rivals', 'william', 'h', 'seward', 'and', 'salmon', 'chase', 'his', 'western', 'origins', 'also', 'appealed', 'to', 'the', 'newer', 'states', 'other', 'contenders', 'especially', 'those', 'with', 'more', 'governmental', 'experience', 'had', 'acquired', 'enemies', 'within', 'the', 'party', 'specifically', 'seward', 'who', 'had', 'run', 'afoul', 'of', 'newspaperman', 'horace', 'greeley', 'during', 'the', 'campaign', 'lincoln', 'was', 'dubbed', 'the', 'rail', 'splitter', 'by', 'republicans', 'to', 'emphasize', 'the', 'power', 'of', 'free', 'labor', 'whereby', 'a', 'common', 'farm', 'boy', 'could', 'work', 'his', 'way', 'to', 'the', 'top', 'by', 'his', 'own', 'efforts', 'on', 'november', 'six', 'one', 'eight', 'six', 'zero', 'lincoln', 'was', 'elected', 'the', 'one', 'six', 'th', 'president', 'of', 'the', 'united_states', 'beating', 'democrat', 'douglas', 'john', 'c', 'breckenridge', 'of', 'the', 'southern', 'democrats', 'and', 'john', 'c', 'bell', 'of', 'the', 'new', 'constitutional', 'union', 'party', 'lincoln', 'was', 'the', 'first', 'republican', 'president', 'he', 'won', 'entirely', 'on', 'the', 'strength', 'of', 'his', 'support', 'in', 'the', 'north', 'he', 'was', 'not', 'even', 'on', 'the', 'ballot', 'in', 'nine', 'states', 'in', 'the', 'south', 'and', 'won', 'only', 'two', 'of', 'nine', 'nine', 'six', 'counties', 'there', 'lincoln', 'gained', 'one', 'eight', 'six', 'five', 'nine', 'zero', 'eight', 'votes', 'three', 'nine', 'nine', 'of', 'the', 'total', 'for', 'one', 'eight', 'zero', 'electoral_votes', 'douglas', 'one', 'three', 'eight', 'zero', 'two', 'zero', 'two', 'two', 'nine', 'five', 'for', 'one', 'two', 'electoral_votes', 'breckenridge', 'eight', 'four', 'eight', 'zero', 'one', 'nine', 'one', 'eight', 'one', 'for', 'seven', 'two', 'electoral_votes', 'and', 'bell', 'five', 'nine', 'zero', 'nine', 'zero', 'one', 'one', 'two', 'five', 'for', 'three', 'nine', 'electoral_votes', 'there', 'were', 'fusion', 'tickets', 'in', 'some', 'states', 'but', 'even', 'if', 'his', 'opponents', 'had', 'combined', 'in', 'every', 'state', 'lincoln', 'had', 'a', 'majority', 'vote', 'in', 'all', 'but', 'two', 'of', 'the', 'states', 'in', 'which', 'he', 'won', 'the', 'electoral_votes', 'and', 'would', 'still', 'have', 'won', 'the', 'electoral_college', 'and', 'the', 'election', 'secession', 'winter', 'one', 'eight', 'six', 'zero', 'six', 'one', 'as', 'lincoln', 's', 'election', 'became', 'more', 'and', 'more', 'probable', 'secessionists', 'made', 'it', 'clear', 'that', 'their', 'states', 'would', 'leave', 'the', 'union', 'south_carolina', 'took', 'the', 'lead', 'followed', 'by', 'six', 'other', 'cotton', 'growing', 'states', 'georgia', 'florida', 'alabama', 'mississippi', 'louisiana', 'and', 'texas', 'the', 'upper', 'south', 'delaware', 'maryland', 'virginia', 'north_carolina', 'tennessee', 'kentucky', 'missouri', 'and', 'arkansas', 'listened', 'to', 'and', 'rejected', 'the', 'secessionist', 'appeal', 'they', 'decided', 'to', 'stay', 'in', 'the', 'union', 'though', 'warning', 'lincoln', 'they', 'would', 'not', 'support', 'an', 'invasion', 'through', 'their', 'territory', 'the', 'seven', 'confederate_states', 'seceded', 'before', 'lincoln', 'took', 'office', 'declaring', 'themselves', 'an', 'entirely', 'new', 'nation', 'the', 'confederate_states', 'of', 'america', 'president', 'buchanan', 'and', 'president_elect', 'lincoln', 'refused', 'to', 'recognize', 'the', 'confederacy', 'president_elect', 'lincoln', 'survived', 'an', 'assassination', 'threat', 'in', 'baltimore', 'and', 'on', 'february', 'two', 'three', 'one', 'eight', 'six', 'one', 'arrived', 'in', 'disguise', 'in', 'washington', 'at', 'lincoln', 's', 'inauguration', 'on', 'march', 'four', 'one', 'eight', 'six', 'one', 'the', 'turners', 'formed', 'lincoln', 's', 'bodyguard', 'and', 'a', 'sizable', 'garrison', 'of', 'federal', 'troops', 'was', 'also', 'present', 'ready', 'to', 'protect', 'the', 'capital', 'from', 'confederate', 'invasion', 'or', 'insurrection', 'from', 'confederates', 'in', 'the', 'capital', 'city', 'photograph', 'showing', 'march', 'four', 'one', 'eight', 'six', 'one', 'inauguration', 'of', 'abraham_lincoln', 'in', 'front', 'of', 'u', 's', 'capitol', 'in', 'his', 'first', 'inaugural_address', 'lincoln', 'declared', 'i', 'hold', 'that', 'in', 'contemplation', 'of', 'universal', 'law', 'and', 'of', 'the', 'constitution', 'the', 'union', 'of', 'these', 'states', 'is', 'perpetual', 'perpetuity', 'is', 'implied', 'if', 'not', 'expressed', 'in', 'the', 'fundamental', 'law', 'of', 'all', 'national', 'governments', 'arguing', 'further', 'that', 'the', 'purpose', 'of', 'the', 'united_states', 'constitution', 'was', 'to', 'form', 'a', 'more', 'perfect', 'union', 'than', 'the', 'articles', 'of', 'confederation', 'which', 'were', 'explicitly', 'perpetual', 'and', 'thus', 'the', 'constitution', 'too', 'was', 'perpetual', 'he', 'asked', 'rhetorically', 'that', 'even', 'were', 'the', 'constitution', 'a', 'simple', 'contract', 'would', 'it', 'not', 'require', 'the', 'agreement', 'of', 'all', 'parties', 'to', 'rescind', 'it', 'also', 'in', 'his', 'inaugural_address', 'in', 'a', 'final', 'attempt', 'to', 'unite', 'the', 'union', 'and', 'prevent', 'the', 'looming', 'war', 'lincoln', 'supported', 'the', 'proposed', 'corwin', 'amendment', 'to', 'the', 'constitution', 'of', 'which', 'he', 'had', 'been', 'a', 'driving_force', 'it', 'would', 'have', 'explicitly', 'protected', 'slavery', 'in', 'those', 'states', 'in', 'which', 'it', 'already', 'existed', 'and', 'had', 'already', 'passed', 'both', 'houses', 'lincoln', 'adamantly', 'opposed', 'the', 'crittenden', 'compromise', 'however', 'which', 'would', 'have', 'permitted', 'slavery', 'in', 'the', 'territories', 'renewing', 'the', 'boundary', 'set', 'by', 'the', 'missouri_compromise', 'and', 'extending', 'it', 'to', 'california', 'despite', 'support', 'for', 'this', 'compromise', 'among', 'some', 'republicans', 'lincoln', 'declared', 'that', 'were', 'the', 'crittenden', 'compromise', 'accepted', 'it', 'would', 'amount', 'to', 'a', 'perpetual', 'covenant', 'of', 'war', 'against', 'every', 'people', 'tribe', 'and', 'state', 'owning', 'a', 'foot', 'of', 'land', 'between', 'here', 'and', 'tierra_del_fuego', 'because', 'opposition', 'to', 'slavery', 'expansion', 'was', 'the', 'key', 'issue', 'uniting', 'the', 'republican_party', 'at', 'the', 'time', 'lincoln', 'is', 'sometimes', 'criticized', 'for', 'putting', 'politics', 'ahead', 'of', 'the', 'national', 'interest', 'in', 'refusing', 'any', 'compromise', 'allowing', 'the', 'expansion', 'of', 'slavery', 'supporters', 'of', 'lincoln', 'however', 'point', 'out', 'that', 'he', 'did_not', 'oppose', 'slavery', 'because', 'he', 'was', 'a', 'republican', 'but', 'became', 'a', 'republican', 'because', 'of', 'his', 'opposition', 'to', 'the', 'expansion', 'of', 'slavery', 'that', 'he', 'opposed', 'several', 'other', 'republicans', 'who', 'were', 'in', 'favor', 'of', 'compromise', 'and', 'that', 'he', 'clearly', 'thought', 'his', 'course', 'of', 'action', 'was', 'in', 'the', 'national', 'interest', 'by', 'the', 'time', 'lincoln', 'took', 'office', 'the', 'confederacy', 'was', 'an', 'established', 'fact', 'and', 'not', 'a', 'single', 'leader', 'of', 'that', 'country', 'ever', 'proposed', 'rejoining', 'the', 'union', 'on', 'any', 'terms', 'no', 'compromise', 'was', 'found', 'because', 'no', 'compromise', 'was', 'possible', 'lincoln', 'perhaps', 'could', 'have', 'allowed', 'the', 'southern', 'states', 'to', 'secede', 'and', 'some', 'republicans', 'recommended', 'that', 'however', 'conservative', 'democratic', 'nationalists', 'such', 'as', 'jeremiah', 's', 'black', 'joseph', 'holt', 'and', 'edwin', 'm', 'stanton', 'had', 'taken', 'control', 'of', 'buchanan', 's', 'cabinet', 'around', 'january', 'one', 'one', 'eight', 'six', 'one', 'and', 'refused', 'to', 'accept', 'secession', 'lincoln', 'and', 'nearly', 'all', 'republican', 'leaders', 'adopted', 'this', 'nationalistic', 'position', 'by', 'march', 'one', 'eight', 'six', 'one', 'the', 'union', 'could', 'not', 'be', 'broken', 'war', 'begins', 'one', 'eight', 'six', 'one', 'one', 'eight', 'six', 'two', 'after', 'union', 'troops', 'at', 'fort_sumter', 'were', 'fired', 'on', 'and', 'forced', 'to', 'surrender', 'in', 'april', 'lincoln', 'called', 'on', 'governors', 'of', 'every', 'state', 'to', 'send', 'seven', 'five', 'zero', 'zero', 'zero', 'troops', 'to', 'recapture', 'forts', 'protect', 'the', 'capital', 'and', 'preserve', 'the', 'union', 'which', 'in', 'his', 'view', 'still', 'existed', 'intact', 'despite', 'the', 'actions', 'of', 'the', 'seceding', 'states', 'virginia', 'which', 'had', 'repeatedly', 'warned', 'lincoln', 'it', 'would', 'not', 'allow', 'an', 'invasion', 'of', 'its', 'territory', 'or', 'join', 'an', 'attack', 'on', 'another', 'state', 'then', 'seceded', 'along', 'with', 'north_carolina', 'tennessee', 'and', 'arkansas', 'the', 'slave', 'states', 'of', 'missouri', 'kentucky', 'maryland', 'and', 'delaware', 'did_not', 'secede', 'and', 'lincoln', 'urgently', 'negotiated', 'with', 'state', 'leaders', 'there', 'promising', 'not', 'to', 'interfere', 'with', 'slavery', 'in', 'loyal', 'states', 'emancipation_proclamation', 'lincoln', 'met', 'with', 'his', 'cabinet', 'for', 'the', 'first', 'reading', 'of', 'the', 'emancipation_proclamation', 'draft', 'on', 'july', 'two', 'two', 'one', 'eight', 'six', 'two', 'congress', 'in', 'july', 'one', 'eight', 'six', 'two', 'moved', 'to', 'free', 'the', 'slaves', 'by', 'passing', 'the', 'second', 'confiscation', 'act', 'it', 'provided', 'that', 'if', 'any', 'person', 'shall_hereafter', 'incite', 'set', 'on', 'foot', 'assist', 'or', 'engage', 'in', 'any', 'rebellion', 'or', 'insurrection', 'against', 'the', 'authority', 'of', 'the', 'united_states', 'or', 'the', 'laws', 'thereof', 'or', 'shall', 'give', 'aid', 'or', 'comfort', 'thereto', 'or', 'shall', 'engage', 'in', 'or', 'give', 'aid', 'and', 'comfort', 'to', 'any', 'such', 'existing', 'rebellion', 'or', 'insurrection', 'and', 'be', 'convicted', 'thereof', 'such', 'person', 'shall', 'be', 'punished', 'by', 'imprisonment', 'for', 'a', 'period', 'not', 'exceeding', 'ten_years', 'or', 'by', 'a', 'fine', 'not', 'exceeding', 'ten_thousand', 'dollars', 'and', 'by', 'the', 'liberation', 'of', 'all', 'his', 'slaves', 'if', 'any', 'he', 'have', 'or', 'by', 'both', 'of', 'said', 'punishments', 'at', 'the', 'discretion', 'of', 'the', 'court', 'sec', 'nine', 'and', 'be', 'it', 'further', 'enacted', 'that', 'all', 'slaves', 'of', 'persons', 'who', 'shall_hereafter', 'be', 'engaged', 'in', 'rebellion_against', 'the', 'government', 'of', 'the', 'united_states', 'or', 'who', 'shall', 'in', 'any', 'way', 'give', 'aid', 'or', 'comfort', 'thereto', 'escaping', 'from', 'such', 'persons', 'and', 'taking', 'refuge', 'within', 'the', 'lines', 'of', 'the', 'army', 'and', 'all', 'slaves', 'captured', 'from', 'such', 'persons', 'or', 'deserted', 'by', 'them', 'and', 'coming', 'under', 'the', 'control', 'of', 'the', 'government', 'of', 'the', 'united_states', 'and', 'all', 'slaves', 'of', 'such', 'person', 'found', 'on', 'or', 'being', 'within', 'any', 'place', 'occupied', 'by', 'rebel', 'forces', 'and', 'afterwards', 'occupied', 'by', 'the', 'forces', 'of', 'the', 'united_states', 'shall', 'be', 'deemed', 'captives', 'of', 'war', 'and', 'shall', 'be', 'forever', 'free', 'of', 'their', 'servitude', 'and', 'not', 'again', 'held', 'as', 'slaves', 'thus', 'everyone', 'who', 'six', 'zero', 'days', 'after', 'july', 'one', 'seven', 'one', 'eight', 'six', 'two', 'supported', 'the', 'rebellion', 'was', 'to', 'be', 'punished', 'by', 'having', 'all', 'their', 'slaves', 'freed', 'the', 'goal', 'was', 'to', 'weaken', 'the', 'rebellion', 'which', 'was', 'led', 'and', 'controlled', 'by', 'slave_owners', 'this', 'did_not', 'abolish', 'the', 'legal', 'institution', 'of', 'slavery', 'the', 'xiii', 'amendment', 'did', 'that', 'but', 'it', 'shows', 'lincoln', 'had', 'the', 'support', 'of', 'and', 'was', 'even', 'somewhat', 'pushed', 'by', 'congress', 'in', 'liberating', 'the', 'slaves', 'owned', 'by', 'rebels', 'lincoln', 'implemented', 'the', 'new', 'law', 'by', 'his', 'emancipation_proclamation', 'lincoln', 'is', 'well', 'known', 'for', 'ending', 'slavery', 'in', 'the', 'united_states', 'and', 'he', 'personally', 'opposed', 'slavery', 'as', 'a', 'profound', 'moral', 'evil', 'not', 'in', 'accord', 'with', 'the', 'principle', 'of', 'equality', 'asserted', 'in', 'the', 'declaration', 'of', 'independence', 'yet', 'lincoln', 's', 'views', 'of', 'the', 'role', 'of', 'the', 'federal_government', 'on', 'the', 'subject', 'of', 'slavery', 'are', 'more', 'complicated', 'before', 'the', 'confederate_states', 'seceded', 'lincoln', 'had', 'campaigned_against', 'the', 'expansion', 'of', 'slavery', 'into', 'the', 'territories', 'where', 'congress', 'did', 'have', 'authority', 'however', 'he', 'maintained', 'that', 'the', 'federal_government', 'could', 'not', 'constitutionally', 'bar', 'slavery', 'in', 'states', 'where', 'it', 'already', 'existed', 'during', 'his', 'presidency', 'lincoln', 'made', 'it', 'clear', 'that', 'the', 'north', 'was', 'fighting', 'the', 'war', 'to', 'preserve', 'the', 'union', 'not', 'to', 'abolish_slavery', 'freeing', 'the', 'slaves', 'was', 'a', 'war', 'measure', 'to', 'weaken', 'the', 'rebellion', 'by', 'destroying', 'the', 'economic', 'base', 'of', 'its', 'leadership', 'class', 'lincoln', 'was', 'criticized', 'both', 'at', 'home', 'and', 'abroad', 'for', 'his', 'refusal', 'to', 'take', 'a', 'stand', 'for', 'the', 'complete', 'abolition', 'of', 'slavery', 'on', 'august', 'two', 'two', 'one', 'eight', 'six', 'two', 'a', 'few_weeks_before', 'signing', 'the', 'proclamation', 'and', 'after', 'it', 'had', 'already', 'been', 'drafted', 'lincoln', 'responded', 'by', 'letter', 'to', 'an', 'editorial', 'by', 'horace', 'greeley', 'of', 'the', 'new_york', 'tribune', 'which', 'had', 'urged', 'abolition', 'i', 'would', 'save', 'the', 'union', 'i', 'would', 'save', 'it', 'the', 'shortest', 'way', 'under', 'the', 'constitution', 'the', 'sooner', 'the', 'national', 'authority', 'can', 'be', 'restored', 'the', 'nearer', 'the', 'union', 'will', 'be', 'the', 'union', 'as', 'it', 'was', 'if', 'there', 'be', 'those', 'who', 'would', 'not', 'save', 'the', 'union', 'unless', 'they', 'could', 'at', 'the', 'same', 'time', 'save', 'slavery', 'i', 'do_not', 'agree', 'with', 'them', 'if', 'there', 'be', 'those', 'who', 'would', 'not', 'save', 'the', 'union', 'unless', 'they', 'could', 'at', 'the', 'same', 'time', 'destroy', 'slavery', 'i', 'do_not', 'agree', 'with', 'them', 'my', 'paramount', 'object', 'in', 'this', 'struggle', 'is', 'to', 'save', 'the', 'union', 'and', 'is', 'not', 'either', 'to', 'save', 'or', 'to', 'destroy', 'slavery', 'if', 'i', 'could', 'save', 'the', 'union', 'without', 'freeing', 'any', 'slave', 'i', 'would', 'do', 'it', 'and', 'if', 'i', 'could', 'save', 'it', 'by', 'freeing', 'all', 'the', 'slaves', 'i', 'would', 'do', 'it', 'and', 'if', 'i', 'could', 'save', 'it', 'by', 'freeing', 'some', 'and', 'leaving', 'others', 'alone', 'i', 'would', 'also', 'do', 'that', 'what', 'i', 'do', 'about', 'slavery', 'and', 'the', 'colored', 'race', 'i', 'do', 'because', 'i', 'believe', 'it', 'helps', 'to', 'save', 'the', 'union', 'and', 'what', 'i', 'forbear', 'i', 'forbear', 'because', 'i', 'do_not', 'believe', 'it', 'would', 'help', 'to', 'save', 'the', 'union', 'i', 'shall', 'do', 'less', 'whenever', 'i', 'shall', 'believe', 'what', 'i_am', 'doing', 'hurts', 'the', 'cause', 'and', 'i', 'shall', 'do', 'more', 'whenever', 'i', 'shall', 'believe', 'doing', 'more', 'will', 'help', 'the', 'cause', 'i', 'shall', 'try', 'to', 'correct', 'errors', 'when', 'shown', 'to', 'be', 'errors', 'and', 'i', 'shall', 'adopt', 'new', 'views', 'so', 'fast', 'as', 'they', 'shall', 'appear', 'to', 'be', 'true', 'views', 'i', 'have', 'here', 'stated', 'my', 'purpose', 'according', 'to', 'my', 'view', 'of', 'official', 'duty', 'and', 'i', 'intend', 'no', 'modification', 'of', 'my', 'oft', 'expressed', 'personal', 'wish', 'that', 'all', 'men', 'everywhere', 'could', 'be', 'free', 'with', 'the', 'emancipation_proclamation', 'issued', 'in', 'two', 'parts', 'on', 'september', 'two', 'two', 'one', 'eight', 'six', 'two', 'and', 'january', 'one', 'one', 'eight', 'six', 'three', 'lincoln', 'made', 'the', 'abolition', 'of', 'slavery', 'a', 'goal', 'of', 'the', 'war', 'lincoln', 'addresses', 'the', 'issue', 'of', 'his', 'consistency', 'or', 'lack_thereof', 'between', 'his', 'earlier', 'position', 'and', 'his', 'later', 'position', 'on', 'emancipation', 'in', 'an', 'one', 'eight', 'six', 'four', 'letter', 'to', 'albert', 'g', 'hodges', 'lincoln', 'is', 'often', 'credited', 'with', 'freeing', 'enslaved', 'african_americans', 'with', 'the', 'emancipation_proclamation', 'however', 'border', 'states', 'that', 'still', 'allowed', 'slavery', 'but', 'were', 'under', 'union', 'control', 'were', 'exempt', 'from', 'the', 'emancipation', 'because', 'they', 'were', 'not', 'covered', 'under', 'any', 'war', 'measures', 'the', 'proclamation', 'on', 'its', 'first', 'day', 'january', 'one', 'one', 'eight', 'six', 'three', 'freed', 'only', 'a', 'few', 'escaped', 'slaves', 'but', 'as', 'union', 'armies', 'advanced', 'south', 'more', 'and', 'more', 'slaves', 'were', 'liberated', 'until', 'hundreds', 'of', 'thousands', 'were', 'freed', 'exactly', 'how', 'many', 'is', 'unknown', 'lincoln', 'signed', 'the', 'proclamation', 'as', 'a', 'wartime', 'measure', 'insisting', 'that', 'only', 'the', 'outbreak', 'of', 'war', 'gave', 'constitutional', 'power', 'to', 'the', 'president', 'to', 'free', 'slaves', 'in', 'states', 'where', 'it', 'already', 'existed', 'he', 'later', 'said', 'i', 'never', 'in', 'my', 'life', 'felt', 'more', 'certain', 'that', 'i', 'was', 'doing', 'right', 'than', 'i', 'do', 'in', 'signing', 'this', 'paper', 'the', 'proclamation', 'made', 'abolishing_slavery', 'in', 'the', 'rebel', 'states', 'an', 'official', 'war', 'goal', 'and', 'it', 'became', 'the', 'impetus', 'for', 'the', 'enactment', 'of', 'the', 'one', 'three', 'th_amendment', 'to', 'the', 'united_states', 'constitution', 'which', 'abolished_slavery', 'lincoln', 'was', 'one', 'of', 'the', 'main', 'promoters', 'of', 'that', 'amendment', 'although', 'some', 'northern', 'conservatives', 'recoiled', 'at', 'the', 'notion', 'that', 'the', 'war', 'was', 'now', 'being', 'fought', 'for', 'the', 'slaves', 'instead', 'of', 'for', 'preserving', 'the', 'union', 'in', 'the', 'end', 'the', 'emancipation_proclamation', 'did', 'much', 'to', 'help', 'the', 'northern', 'cause', 'politically', 'lincoln', 's', 'strong', 'abolitionist', 'stand', 'finally', 'convinced', 'the', 'united_kingdom', 'of', 'great_britain', 'and', 'ireland', 'and', 'other', 'foreign', 'countries', 'that', 'they', 'could', 'not', 'support', 'the', 'confederate_states', 'of', 'america', 'this', 'move', 'remains', 'one', 'of', 'the', 'great', 'seizures', 'of', 'private_property', 'by', 'the', 'federal_government', 'restoring', 'the', 'ownership', 'of', 'the', 'blacks', 'to', 'themselves', 'lincoln', 'had', 'for', 'some', 'time', 'been', 'working', 'on', 'plans', 'to', 'set', 'up', 'colonies', 'in', 'africa', 'and', 'south_america', 'for', 'the', 'nearly', 'four', 'million', 'newly', 'freed_slaves', 'he', 'remarked', 'upon', 'colonization', 'favorably', 'in', 'the', 'emancipation_proclamation', 'but', 'all', 'attempts', 'at', 'such', 'a', 'massive', 'undertaking', 'failed', 'important', 'domestic', 'measures', 'of', 'lincoln', 's', 'first', 'term', 'while', 'lincoln', 'is', 'usually', 'portrayed', 'bearded', 'he', 'first', 'grew', 'a', 'beard', 'in', 'one', 'eight', 'six', 'one', 'at', 'the', 'suggestion', 'of', 'one', 'one', 'year', 'old', 'grace', 'bedell', 'lincoln', 'believed', 'in', 'the', 'whig', 'theory', 'of', 'the', 'presidency', 'which', 'left', 'congress', 'to', 'write', 'the', 'laws', 'he', 'was', 'anti', 'vescovian', 'he', 'signed', 'them', 'vetoing', 'only', 'bills', 'that', 'threatened', 'his', 'war', 'powers', 'thus', 'he', 'signed', 'the', 'homestead_act', 'in', 'one', 'eight', 'six', 'two', 'making', 'available', 'millions', 'of', 'acres', 'of', 'government', 'held', 'land', 'in', 'the', 'west', 'for', 'purchase', 'at', 'very', 'low_cost', 'the', 'morrill', 'land', 'grant', 'colleges', 'act', 'also', 'signed', 'in', 'one', 'eight', 'six', 'two', 'provided', 'government', 'grants', 'for', 'agricultural', 'universities', 'in', 'each', 'state', 'lincoln', 'also', 'signed', 'the', 'pacific_railway', 'acts', 'of', 'one', 'eight', 'six', 'two', 'and', 'one', 'eight', 'six', 'four', 'which', 'granted', 'federal', 'support', 'to', 'the', 'construction', 'of', 'the', 'united_states', 'first', 'transcontinental_railroad', 'which', 'was', 'completed', 'in', 'one', 'eight', 'six', 'nine', 'the', 'most', 'important', 'legislation', 'involved', 'money', 'matters', 'including', 'the', 'first', 'income_tax', 'and', 'higher', 'tariffs', 'most', 'important', 'was', 'the', 'creation', 'of', 'the', 'system', 'of', 'national', 'banks', 'by', 'the', 'national', 'banking', 'acts', 'of', 'one', 'eight', 'six', 'three', 'one', 'eight', 'six', 'four', 'and', 'one', 'eight', 'six', 'five', 'which', 'allowed', 'the', 'creation', 'of', 'a', 'strong', 'national', 'financial', 'system', 'lincoln', 'sent', 'a', 'senior', 'general', 'to', 'put', 'down', 'the', 'sioux', 'uprising', 'of', 'august', 'one', 'eight', 'six', 'two', 'in', 'minnesota', 'presented', 'with', 'three', 'zero', 'three', 'death', 'warrants', 'for', 'convicted', 'santee', 'dakota', 'who', 'had', 'massacred', 'innocent', 'farmers', 'lincoln', 'affirmed', 'three', 'nine', 'of', 'these', 'for', 'execution', 'one', 'was', 'later', 'reprieved', 'one', 'eight', 'six', 'four', 'election', 'and', 'second', 'inauguration', 'after', 'union', 'victories', 'at', 'gettysburg', 'vicksburg', 'and', 'chattanooga', 'in', 'one', 'eight', 'six', 'three', 'many', 'in', 'the', 'north', 'believed', 'that', 'victory', 'was', 'soon', 'to', 'come', 'after', 'lincoln', 'appointed', 'u', 's', 'grant', 'general', 'in', 'chief', 'on', 'march', 'one', 'two', 'one', 'eight', 'six', 'four', 'although', 'no', 'president', 'since', 'andrew_jackson', 'had', 'been', 'elected', 'to', 'a', 'second', 'term', 'and', 'none', 'since', 'van_buren', 'had', 'been', 're', 'nominated', 'lincoln', 's', 're_election', 'was', 'considered', 'a', 'certainty', 'however', 'when', 'the', 'spring', 'campaigns', 'east', 'and', 'west', 'all', 'turned', 'into', 'bloody', 'stalemates', 'northern', 'morale', 'dipped', 'and', 'lincoln', 'seemed', 'less', 'likely', 'to', 'be', 're', 'nominated', 'treasury_secretary', 'salmon', 'p', 'chase', 'strongly', 'desired', 'the', 'republican', 'nomination', 'and', 'was', 'working', 'hard', 'to', 'win', 'it', 'while', 'john', 'fremont', 'was', 'nominated', 'by', 'a', 'breakoff', 'group', 'of', 'radical', 'republicans', 'potentially', 'taking', 'away', 'crucial', 'votes', 'in', 'the', 'november', 'elections', 'fearing', 'he', 'might', 'lose', 'the', 'election', 'lincoln', 'wrote', 'out', 'and', 'signed', 'the', 'following', 'pledge', 'but', 'did_not', 'show', 'it', 'to', 'his', 'cabinet', 'asking', 'them', 'each', 'to', 'sign', 'the', 'sealed', 'envelope', 'lincoln', 'wrote', 'this', 'morning', 'as', 'for', 'some', 'days', 'past', 'it', 'seems', 'exceedingly', 'probable', 'that', 'this', 'administration', 'will', 'not', 'be', 're_elected', 'then', 'it', 'will', 'be', 'my', 'duty', 'to', 'so', 'co_operate', 'with', 'the', 'president_elect', 'as', 'to', 'save', 'the', 'union', 'between', 'the', 'election', 'and', 'the', 'inauguration', 'as', 'he', 'will', 'have', 'secured', 'his', 'election', 'on', 'such', 'ground', 'that', 'he', 'can', 'not', 'possibly', 'save', 'it', 'afterwards', 'the', 'democrats', 'hoping', 'to', 'make', 'setbacks', 'in', 'the', 'war', 'a', 'top', 'campaign', 'issue', 'waited_until', 'late', 'summer', 'to', 'nominate', 'a', 'candidate', 'their', 'platform', 'was', 'heavily_influenced', 'by', 'the', 'peace', 'wing', 'of', 'the', 'party', 'calling', 'the', 'war', 'a', 'failure', 'but', 'their', 'candidate', 'former', 'general', 'george', 'mcclellan', 'was', 'a', 'war', 'democrat', 'determined', 'to', 'prosecute', 'the', 'war', 'until', 'the', 'union', 'was', 'restored', 'although', 'willing', 'to', 'compromise', 'on', 'all', 'other', 'issues', 'including', 'slavery', 'mcclellan', 's', 'candidacy', 'was', 'soon', 'undercut', 'as', 'on', 'september', 'one', 'just', 'two', 'days', 'after', 'the', 'convention', 'atlanta', 'was', 'abandoned', 'by', 'the', 'confederate_army', 'coming', 'on', 'the', 'heels', 'of', 'david_farragut', 's', 'capture', 'of', 'mobile_bay', 'and', 'followed', 'by', 'phil', 'sheridan', 's', 'crushing', 'victory', 'over', 'jubal_early', 's', 'army', 'at', 'cedar', 'creek', 'it', 'was', 'now', 'apparent', 'that', 'the', 'tide', 'had', 'turned', 'in', 'favor', 'of', 'the', 'union', 'and', 'that', 'lincoln', 'may', 'be', 'reelected', 'despite', 'the', 'costs', 'of', 'the', 'war', 'still', 'lincoln', 'believed', 'that', 'he', 'would', 'win', 'the', 'electoral_vote', 'by', 'only', 'a', 'slim', 'margin', 'failing', 'to', 'give', 'him', 'the', 'mandate', 'he', 'd', 'need', 'if', 'he', 'was', 'to', 'push', 'his', 'lenient', 'reconstruction', 'plan', 'to', 'his', 'surprise', 'lincoln', 'ended_up', 'winning', 'all', 'but', 'two', 'states', 'capturing', 'two', 'one', 'two', 'of', 'two', 'three', 'three', 'electoral_votes', 'after', 'lincoln', 's', 'election', 'on', 'march', 'four', 'one', 'eight', 'six', 'five', 'he', 'delivered', 'his', 'second', 'inaugural_address', 'which', 'was', 'his', 'favorite', 'of', 'all', 'his', 'speeches', 'at', 'this', 'time', 'a', 'victory', 'over', 'the', 'rebels', 'was', 'within', 'sight', 'slavery', 'had', 'effectively_ended', 'and', 'lincoln', 'was', 'looking', 'to', 'the', 'future', 'fondly', 'do', 'we', 'hope', 'fervently', 'do', 'we', 'pray', 'that', 'this', 'mighty', 'scourge', 'of', 'war', 'may', 'speedily', 'pass', 'away', 'yet', 'if', 'god', 'wills', 'that', 'it', 'continue', 'until', 'all', 'the', 'wealth', 'piled', 'by', 'the', 'bond', 'man', 's', 'two', 'hundred', 'and', 'fifty_years', 'of', 'unrequited', 'toil', 'shall', 'be', 'sunk', 'and', 'until', 'every', 'drop', 'of', 'blood', 'drawn', 'with', 'the', 'lash', 'shall', 'be', 'paid', 'by', 'another', 'drawn', 'with', 'the', 'sword', 'as', 'was', 'said', 'three', 'thousand_years_ago', 'so', 'still', 'it', 'must', 'be', 'said', 'the', 'judgments', 'of', 'the', 'lord', 'are', 'true', 'and', 'righteous', 'altogether', 'with', 'malice', 'toward', 'none', 'with', 'charity', 'for', 'all', 'with', 'firmness', 'in', 'the', 'right', 'as', 'god', 'gives', 'us', 'to', 'see', 'the', 'right', 'let_us', 'strive', 'on', 'to', 'finish', 'the', 'work', 'we', 'are', 'in', 'to', 'bind', 'up', 'the', 'nation', 's', 'wounds', 'to', 'care', 'for', 'him', 'who', 'shall', 'have', 'borne', 'the', 'battle', 'and', 'for', 'his', 'widow', 'and', 'his', 'orphan', 'to', 'do', 'all', 'which', 'may', 'achieve', 'and', 'cherish', 'a', 'just', 'and', 'lasting_peace', 'among', 'ourselves', 'and', 'with', 'all', 'nations', 'civil_war', 'and', 'reconstruction', 'conducting', 'the', 'war', 'effort', 'the', 'war', 'was', 'a', 'source', 'of', 'constant', 'frustration', 'for', 'the', 'president', 'and', 'it', 'occupied', 'nearly', 'all', 'of', 'his', 'time', 'lincoln', 'had', 'a', 'contentious', 'relationship', 'with', 'general', 'george', 'b', 'mcclellan', 'who', 'became', 'general', 'in', 'chief', 'of', 'all', 'the', 'union', 'armies', 'in', 'the', 'wake', 'of', 'the', 'embarrassing', 'union', 'defeat', 'at', 'the', 'first', 'battle', 'of', 'bull_run', 'and', 'after', 'the', 'retirement', 'of', 'winfield_scott', 'in', 'late', 'one', 'eight', 'six', 'one', 'lincoln', 'wished', 'to', 'take', 'an', 'active', 'part', 'in', 'planning', 'the', 'war', 'strategy', 'despite', 'his', 'inexperience', 'in', 'military', 'affairs', 'lincoln', 's', 'strategic', 'priorities', 'were', 'two', 'fold', 'first', 'to', 'ensure', 'that', 'washington_d_c', 'was', 'well', 'defended', 'and', 'second', 'to', 'conduct', 'an', 'aggressive', 'war', 'effort', 'in', 'hopes', 'of', 'ending', 'the', 'war', 'quickly', 'and', 'appeasing', 'the', 'northern', 'public', 'and', 'press', 'who', 'pushed', 'for', 'an', 'offensive', 'war', 'mcclellan', 'a', 'youthful', 'west', 'point', 'graduate', 'and', 'railroad', 'executive', 'called', 'back', 'to', 'military', 'service', 'took', 'a', 'more', 'cautious', 'approach', 'mcclellan', 'took', 'several', 'months', 'to', 'plan', 'and', 'execute', 'his', 'peninsula', 'campaign', 'which', 'involved', 'capturing', 'richmond', 'by', 'moving', 'the', 'army', 'of', 'the', 'potomac', 'by', 'boat', 'to', 'the', 'peninsula', 'between', 'the', 'james', 'and', 'york', 'rivers', 'mcclellan', 's', 'delay', 'irritated', 'lincoln', 'as', 'did', 'mcclellan', 's', 'insistence', 'that', 'no', 'troops', 'were', 'needed', 'to', 'defend', 'washington_d_c', 'lincoln', 'insisted', 'on', 'holding', 'some', 'of', 'mcclellan', 's', 'troops', 'to', 'defend', 'the', 'capital', 'a', 'decision', 'mcclellan', 'blamed', 'for', 'the', 'ultimate', 'failure', 'of', 'his', 'peninsula', 'campaign', 'mcclellan', 'a', 'lifelong', 'democrat', 'who', 'was', 'temperamentally', 'conservative', 'was', 'relieved', 'as', 'general', 'in', 'chief', 'after', 'releasing', 'his', 'harrison', 's', 'landing', 'letter', 'where', 'he', 'offered', 'unsolicited', 'political', 'advice', 'to', 'lincoln', 'urging', 'caution', 'in', 'the', 'war', 'effort', 'mcclellan', 's', 'letter', 'incensed', 'radical', 'republicans', 'who', 'successfully', 'pressured', 'lincoln', 'to', 'appoint', 'fellow', 'republican', 'john', 'pope', 'as', 'head', 'of', 'the', 'new', 'army', 'of', 'virginia', 'pope', 'complied', 'with', 'lincoln', 's', 'strategic', 'desire', 'for', 'the', 'union', 'to', 'move', 'towards', 'richmond', 'from', 'the', 'north', 'thus', 'guarding', 'washington_d_c', 'however', 'pope', 'was', 'soundly_defeated', 'at', 'the', 'second', 'battle', 'of', 'bull_run', 'during', 'the', 'summer', 'of', 'one', 'eight', 'six', 'two', 'forcing', 'the', 'army', 'of', 'the', 'potomac', 'back', 'into', 'the', 'defenses', 'of', 'washington', 'for', 'a', 'second', 'time', 'pope', 'was', 'sent', 'to', 'minnesota', 'to', 'fight', 'the', 'sioux', 'panicked', 'by', 'confederate_general_robert', 'e', 'lee', 's', 'invasion', 'of', 'maryland', 'lincoln', 'restored', 'mcclellan', 'to', 'command', 'of', 'all', 'forces', 'around', 'washington', 'in', 'time', 'for', 'the', 'battle', 'of', 'antietam', 'in', 'september', 'one', 'eight', 'six', 'two', 'it', 'was', 'the', 'union', 'victory', 'in', 'that', 'battle', 'that', 'allowed', 'lincoln', 'to', 'release', 'his', 'emancipation_proclamation', 'lincoln', 'relieved', 'mcclellan', 'of', 'command', 'shortly_after', 'the', 'one', 'eight', 'six', 'two', 'midterm', 'elections', 'and', 'appointed', 'republican', 'ambrose', 'burnside', 'to', 'head', 'the', 'army', 'of', 'the', 'potomac', 'who', 'promised', 'to', 'follow', 'through', 'on', 'lincoln', 's', 'strategic', 'vision', 'for', 'an', 'aggressive', 'offensive', 'against', 'lee', 'and', 'richmond', 'after', 'burnside', 'was', 'stunningly', 'defeated', 'at', 'fredericksburg', 'joseph_hooker', 'was', 'given', 'command', 'despite', 'his', 'idle', 'talk', 'about', 'becoming', 'a', 'military', 'strong', 'man', 'hooker', 'was', 'routed', 'by', 'lee', 'at', 'chancellorsville', 'in', 'may', 'one', 'eight', 'six', 'three', 'and', 'also', 'relieved', 'of', 'command', 'after', 'the', 'union', 'victory', 'at', 'gettysburg', 'meade', 's', 'failure', 'to', 'pursue', 'lee', 'and', 'months', 'of', 'inactivity', 'for', 'the', 'army', 'of', 'the', 'potomac', 'lincoln', 'decided', 'to', 'bring', 'in', 'a', 'western', 'general', 'general_ulysses', 's', 'grant', 'he', 'had', 'a', 'solid', 'string', 'of', 'victories', 'in', 'the', 'western', 'theater', 'including', 'vicksburg', 'and', 'chattanooga', 'earlier', 'reacting', 'to', 'criticism', 'of', 'grant', 'lincoln', 'was', 'quoted', 'as', 'saying', 'i', 'cannot', 'spare', 'this', 'man', 'he', 'fights', 'grant', 'waged', 'his', 'bloody', 'overland', 'campaign', 'in', 'one', 'eight', 'six', 'four', 'using', 'a', 'strategy', 'of', 'a', 'war', 'of', 'attrition', 'characterized', 'by', 'high', 'union', 'losses', 'at', 'battles', 'such', 'as', 'the', 'wilderness', 'and', 'cold', 'harbor', 'but', 'by', 'proportionately', 'higher', 'losses', 'in', 'the', 'confederate_army', 'grant', 's', 'aggressive', 'campaign', 'would', 'eventually', 'bottle', 'up', 'lee', 'in', 'the', 'siege', 'of', 'petersburg', 'and', 'result', 'in', 'the', 'union', 'taking', 'richmond', 'and', 'bringing', 'the', 'war', 'to', 'a', 'close', 'in', 'the', 'spring', 'of', 'one', 'eight', 'six', 'five', 'lincoln', 'authorized', 'grant', 'to', 'use', 'a', 'scorched_earth', 'approach', 'to', 'destroy', 'the', 'south', 's', 'morale', 'and', 'economic', 'ability', 'to', 'continue', 'the', 'war', 'this', 'allowed', 'generals', 'william_tecumseh_sherman', 'and', 'philip', 'sheridan', 'to', 'destroy', 'farms', 'and', 'towns', 'in', 'the', 'shenandoah_valley', 'georgia', 'and', 'south_carolina', 'the', 'damage', 'in', 'sherman', 's', 'march', 'to', 'the', 'sea', 'through', 'georgia', 'totaled', 'in', 'excess', 'of', 'one', 'zero', 'zero', 'million', 'lincoln', 'had', 'a', 'star', 'crossed', 'record', 'as', 'a', 'military', 'leader', 'possessing', 'a', 'keen', 'understanding', 'of', 'strategic', 'points', 'such', 'as', 'the', 'mississippi_river', 'and', 'the', 'fortress', 'city', 'of', 'vicksburg', 'and', 'the', 'importance', 'of', 'defeating', 'the', 'enemy', 's', 'army', 'rather_than', 'simply', 'capturing', 'cities', 'however', 'he', 'had', 'little', 'success', 'in', 'his', 'efforts', 'to', 'motivate', 'his', 'generals', 'to', 'adopt', 'his', 'strategies', 'eventually', 'he', 'found', 'in', 'grant', 'a', 'man', 'who', 'shared', 'his', 'vision', 'of', 'the', 'war', 'and', 'was', 'able', 'to', 'bring', 'that', 'vision', 'to', 'reality', 'with', 'his', 'relentless', 'pursuit', 'of', 'coordinated', 'offensives', 'in', 'multiple', 'theaters', 'of', 'war', 'lincoln', 'perhaps', 'reflecting', 'his', 'lack', 'of', 'military', 'experience', 'developed', 'a', 'keen', 'curiosity', 'with', 'military', 'campaigning', 'during', 'the', 'war', 'he', 'spent', 'hours', 'at', 'the', 'war', 'department', 'telegraph', 'office', 'reading', 'dispatches', 'from', 'his', 'generals', 'through', 'many', 'a', 'night', 'he', 'frequently', 'visited', 'battle', 'sites', 'and', 'seemed', 'fascinated', 'by', 'watching', 'scenes', 'of', 'war', 'during', 'jubal', 'a', 'early', 's', 'raid', 'into', 'washington_d_c', 'in', 'one', 'eight', 'six', 'four', 'lincoln', 'had', 'to', 'be', 'told', 'to', 'duck', 'his', 'head', 'to', 'avoid', 'being', 'shot', 'while', 'observing', 'the', 'scenes', 'of', 'battle', 'homefront', 'lincoln', 'was', 'more', 'successful', 'in', 'giving', 'the', 'war', 'meaning', 'to', 'northern', 'civilians', 'through', 'his', 'oratorical', 'skills', 'despite', 'his', 'meager', 'education', 'and', 'backwoods', 'upbringing', 'lincoln', 'possessed', 'an', 'extraordinary', 'command', 'of', 'the', 'english', 'language', 'as', 'evidenced', 'by', 'the', 'gettysburg_address', 'a', 'speech', 'dedicating', 'a', 'cemetery', 'of', 'union', 'soldiers', 'from', 'the', 'battle', 'of', 'gettysburg', 'that', 'he', 'delivered', 'on', 'november', 'one', 'nine', 'one', 'eight', 'six', 'three', 'while', 'the', 'featured', 'speaker', 'orator', 'edward_everett', 'spoke', 'for', 'two', 'hours', 'lincoln', 's', 'few', 'choice', 'words', 'resonated', 'across', 'the', 'nation', 'and', 'across', 'history', 'defying', 'lincoln', 's', 'own', 'prediction', 'that', 'the', 'world', 'will', 'little', 'note', 'nor', 'long', 'remember', 'what', 'we', 'say', 'here', 'lincoln', 's', 'second', 'inaugural_address', 'is', 'also', 'greatly_admired', 'and', 'often', 'quoted', 'in', 'these', 'speeches', 'lincoln', 'articulated', 'better', 'than', 'any', 'of', 'his', 'contemporaries', 'the', 'rationale_behind', 'the', 'union', 'effort', 'during', 'the', 'civil_war', 'lincoln', 'exercised', 'powers', 'no', 'previous', 'president', 'had', 'wielded', 'he', 'proclaimed', 'a', 'blockade', 'suspended', 'the', 'writ', 'of', 'habeas_corpus', 'spent', 'money', 'without', 'congressional', 'authorization', 'and', 'imprisoned', 'thousands', 'of', 'accused', 'confederate', 'sympathizers', 'without', 'trial', 'there', 'is', 'a', 'fragment', 'of', 'uncorraborated', 'evidence', 'that', 'lincoln', 'made', 'contingency', 'plans', 'to', 'arrest', 'chief_justice', 'roger', 'brooke', 'taney', 'though', 'the', 'allegation', 'remains_unresolved', 'and', 'controversial', 'see', 'the', 'taney', 'arrest_warrant', 'controversy', 'the', 'long', 'war', 'and', 'the', 'issue', 'of', 'emancipation', 'appeared', 'to', 'be', 'severely', 'hampering', 'his', 'prospects', 'and', 'pessimists', 'warned', 'that', 'defeat', 'appeared', 'likely', 'lincoln', 'ran', 'under', 'the', 'union', 'party', 'banner', 'composed', 'of', 'war', 'democrats', 'and', 'republicans', 'general', 'grant', 'was', 'facing', 'severe', 'criticism', 'for', 'his', 'conduct', 'of', 'the', 'bloody', 'overland', 'campaign', 'that', 'summer', 'and', 'the', 'seemingly', 'endless', 'siege', 'of', 'petersburg', 'however', 'the', 'union', 'capture', 'of', 'the', 'key', 'railroad', 'center', 'of', 'atlanta', 'by', 'sherman', 's', 'forces', 'in', 'september', 'changed', 'the', 'situation', 'dramatically', 'and', 'lincoln', 'was', 'reelected', 'reconstruction', 'the', 'reconstruction', 'of', 'the', 'union', 'weighed', 'heavy', 'on', 'the', 'president', 's', 'mind', 'throughout', 'the', 'war', 'effort', 'he', 'was', 'determined', 'to', 'take', 'a', 'course', 'that', 'would', 'not', 'permanently', 'alienate', 'the', 'former', 'confederate_states', 'and', 'throughout', 'the', 'war', 'lincoln', 'urged', 'speedy', 'elections', 'under', 'generous', 'terms', 'in', 'areas', 'behind', 'union', 'lines', 'this', 'irritated', 'congressional_republicans', 'who', 'urged', 'a', 'more', 'stringent', 'reconstruction', 'policy', 'one', 'of', 'lincoln', 's', 'few', 'vetoes', 'during', 'his', 'term', 'was', 'of', 'the', 'wade', 'davis', 'bill', 'an', 'effort', 'by', 'congressional_republicans', 'to', 'impose', 'harsher', 'reconstruction', 'terms', 'on', 'the', 'confederate', 'areas', 'republicans', 'in', 'congress', 'retaliated', 'by', 'refusing', 'to', 'seat', 'representatives', 'elected', 'from', 'louisiana', 'arkansas', 'and', 'tennessee', 'during', 'the', 'war', 'under', 'lincoln', 's', 'generous', 'terms', 'let', 'em', 'up', 'easy', 'he', 'told', 'his', 'assembled', 'military', 'leaders', 'gen', 'ulysses', 's', 'grant', 'a', 'future', 'president', 'gen', 'william', 't', 'sherman', 'and', 'adm', 'david', 'dixon', 'porter', 'in', 'an', 'one', 'eight', 'six', 'five', 'meeting', 'on', 'the', 'steamer', 'river', 'queen', 'when', 'richmond', 'the', 'confederate', 'capital', 'was', 'at', 'long', 'last', 'captured', 'lincoln', 'went', 'there', 'to', 'make', 'a', 'public', 'gesture', 'of', 'sitting', 'at', 'jefferson_davis', 's', 'own', 'desk', 'symbolically', 'saying', 'to', 'the', 'nation', 'that', 'the', 'president', 'of', 'the', 'united_states', 'held', 'authority', 'over', 'the', 'entire', 'land', 'he', 'was', 'greeted', 'at', 'the', 'city', 'as', 'a', 'conquering', 'hero', 'by', 'freed_slaves', 'whose', 'sentiments', 'were', 'epitomized', 'by', 'one', 'admirer', 's', 'quote', 'i', 'know', 'i_am', 'free', 'for', 'i', 'have', 'seen', 'the', 'face', 'of', 'father', 'abraham', 'and', 'have', 'felt', 'him', 'on', 'april', 'nine', 'one', 'eight', 'six', 'five', 'confederate_general_robert', 'e', 'lee', 'surrendered', 'at', 'appomattox_court_house', 'in', 'virginia', 'this', 'left', 'only', 'joseph', 'johnston', 's', 'forces', 'in', 'the', 'east', 'to', 'deal', 'with', 'weeks', 'later', 'johnston', 'would', 'defy', 'jefferson_davis', 'and', 'surrender', 'his', 'forces', 'to', 'sherman', 'of', 'course', 'lincoln', 'would', 'not', 'survive', 'to', 'see', 'the', 'surrender', 'of', 'all', 'confederate_forces', 'just', 'five', 'days', 'after', 'lee', 'surrendered', 'lincoln', 'was', 'assassinated', 'he', 'was', 'the', 'first', 'president', 'to', 'be', 'assassinated', 'and', 'the', 'third', 'to', 'die', 'in', 'office', 'assassination', 'the', 'assassination', 'of', 'abraham_lincoln', 'from', 'left', 'to', 'right', 'henry', 'rathbone', 'clara', 'harris', 'mary_todd_lincoln', 'lincoln', 'and', 'booth', 'lincoln', 'had', 'met', 'frequently', 'with', 'lt_gen', 'ulysses', 's', 'grant', 'as', 'the', 'war', 'drew', 'to', 'a', 'close', 'the', 'two', 'men', 'planned', 'matters', 'of', 'reconstruction', 'and', 'it', 'was', 'evident', 'to', 'all', 'that', 'they', 'held', 'each', 'other', 'in', 'high', 'regard', 'during', 'their', 'last', 'meeting', 'on', 'april', 'one', 'four', 'one', 'eight', 'six', 'five', 'good_friday', 'lincoln', 'invited', 'grant', 'to', 'a', 'social', 'engagement', 'that', 'evening', 'grant', 'declined', 'grant', 's', 'wife', 'julia', 'dent', 'grant', 'is', 'said', 'to', 'have', 'strongly', 'disliked', 'mary_todd_lincoln', 'the', 'president', 's', 'eldest_son', 'robert_todd_lincoln', 'also', 'turned_down', 'the', 'invitation', 'john_wilkes_booth', 'a', 'well', 'known', 'actor', 'and', 'southern', 'sympathizer', 'from', 'maryland', 'heard', 'that', 'the', 'president', 'and', 'mrs', 'lincoln', 'along', 'with', 'the', 'grants', 'would', 'be', 'attending', 'ford', 's', 'theatre', 'having', 'failed', 'in', 'a', 'plot', 'to', 'kidnap', 'lincoln', 'earlier', 'booth', 'informed', 'his', 'co_conspirators', 'of', 'his', 'intention', 'to', 'kill', 'lincoln', 'others', 'were', 'assigned', 'to', 'assassinate', 'vice_president', 'andrew_johnson', 'and', 'secretary', 'of', 'state_william_seward', 'without', 'his', 'bodyguard', 'ward', 'hill', 'lamon', 'to', 'whom', 'he', 'related', 'his', 'famous', 'dream', 'of', 'his', 'own', 'assassination', 'the', 'lincolns', 'left', 'to', 'attend', 'the', 'play', 'at', 'ford', 's', 'theater', 'the', 'play', 'our', 'american', 'cousin', 'was', 'a', 'musical_comedy', 'by', 'the', 'british', 'writer', 'tom', 'taylor', 'as', 'lincoln', 'sat', 'in', 'his', 'state', 'box', 'in', 'the', 'balcony', 'booth', 'crept', 'up', 'behind', 'the', 'president', 's', 'box', 'and', 'waited', 'for', 'the', 'funniest', 'line', 'of', 'the', 'play', 'hoping', 'the', 'laughter', 'would', 'cover', 'the', 'gunshot', 'noise', 'on', 'stage', 'actor', 'harry', 'hawk', 'said', 'the', 'last', 'words', 'lincoln', 'would', 'ever', 'hear', 'well', 'i', 'guess', 'i', 'know', 'enough', 'to', 'turn', 'you', 'inside', 'out', 'old', 'gal', 'you', 'sockdologizing', 'old', 'man', 'trap', 'when', 'the', 'laughter', 'came', 'booth', 'jumped', 'into', 'the', 'box', 'the', 'president', 'was', 'in', 'and', 'aimed', 'a', 'single', 'shot', 'round', 'slug', 'four', 'four', 'caliber', 'deringer', 'at', 'his', 'head', 'firing', 'at', 'point', 'blank_range', 'the', 'bullet', 'entered', 'behind', 'lincoln', 's', 'left', 'ear', 'and', 'lodged', 'behind', 'his', 'right', 'eyeball', 'major', 'henry', 'rathbone', 'who', 'was', 'present', 'in', 'the', 'presidential', 'box', 'momentarily', 'grappled', 'with', 'booth', 'but', 'was', 'severely', 'stabbed', 'and', 'slashed', 'by', 'the', 'assassin', 'it', 'was', 'believed', 'that', 'booth', 'then', 'shouted', 'sic', 'semper', 'tyrannis', 'latin', 'thus', 'always', 'to', 'tyrants', 'the', 'state', 'motto', 'of', 'virginia', 'some', 'accounts', 'say', 'he', 'added', 'the', 'south', 'is', 'avenged', 'and', 'jumped', 'from', 'the', 'balcony', 'to', 'the', 'stage', 'below', 'breaking', 'his', 'leg']]\n"
     ]
    }
   ],
   "source": [
    "#print(maker._ngram_dict[3]['model'][maker._ngram_dict[3]['model'][dataset[0]]])\n",
    "\n",
    "results = maker.make_ngrams([dataset[2]])\n",
    "print(results)"
   ]
  },
  {
   "cell_type": "code",
   "execution_count": null,
   "metadata": {},
   "outputs": [],
   "source": [
    "# print(ngrams_dict[2][0][ngrams_dict[1][0][dataset[0]]])\n",
    "print(ngrams_dict[3][1][ngrams_dict[2][1][ngrams_dict[1][1][dataset[0]]]])"
   ]
  },
  {
   "cell_type": "code",
   "execution_count": null,
   "metadata": {},
   "outputs": [],
   "source": []
  }
 ],
 "metadata": {
  "kernelspec": {
   "display_name": "Python 3",
   "language": "python",
   "name": "python3"
  },
  "language_info": {
   "codemirror_mode": {
    "name": "ipython",
    "version": 3
   },
   "file_extension": ".py",
   "mimetype": "text/x-python",
   "name": "python",
   "nbconvert_exporter": "python",
   "pygments_lexer": "ipython3",
   "version": "3.7.7"
  }
 },
 "nbformat": 4,
 "nbformat_minor": 4
}
